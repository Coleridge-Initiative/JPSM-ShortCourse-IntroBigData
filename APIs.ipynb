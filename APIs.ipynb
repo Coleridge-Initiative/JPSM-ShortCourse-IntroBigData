{
 "cells": [
  {
   "cell_type": "markdown",
   "metadata": {},
   "source": [
    "# Module 3 - Web APIs"
   ]
  },
  {
   "cell_type": "markdown",
   "metadata": {},
   "source": [
    "# Table of Contents\n",
    "- [Introduction](#Introduction)\n",
    "\n",
    "    - [Learning Objectives](#Learning-Objectives)\n",
    "    - [Topics](#Topics)\n",
    "\n",
    "- [Setup - Load Python packages](#Setup---Load-Python-packages)\n",
    "- [Using APIs](#Using-APIs)\n",
    "    * [RESTful APIs](#RESTful-APIs)\n",
    "    * [OTP description](#OpenTripPlanner)\n",
    "    * [Index API](#Index-API)\n",
    "    * [JSON](#JSON)\n",
    "    * [API Documentation](#API-Documentation)\n",
    "    * [Python Dictionary](#Python-Dictionary)\n",
    "    * [Routing API](#Routing-API)\n",
    "        * [Scraping Useful Chicago Data](#Scraping-Useful-Chicago-Data)\n",
    "        * [Geocoding](#Geocoding)\n",
    "        * [Planner Resource Syntax](#Planner-Resource-Syntax)\n",
    "        * [Incorporating Databases](#Incorporating-Databases)\n",
    "    * [Isochrone API](#Isochrone-API)"
   ]
  },
  {
   "cell_type": "markdown",
   "metadata": {},
   "source": [
    "# Introduction\n",
    "\n",
    "- Back to [Table of Contents](#Table-of-Contents)\n",
    "\n",
    "In this module, we introduce two general ways that one can retrieve data from data sources on the Internet: APIs and web scraping. We've already covered web scraping, and given the messiness of that subject you may find yourself really appreciating the relative simplicity of using APIs - once you grasp the concepts.\n",
    "\n",
    "API stands for \"Application Programming Interface\". An API is an agreed upon way for one computer program to interact with another computer program.  There are many different kinds of APIs.  Some facilitate interaction between computers over the Internet, some do not. In fact, the Python module SQL Alchemy that we used yesterday is a type of API for talking to databases - you'll see more on APIs for databases with SQL Alchemy later in this course.\n",
    "\n",
    "For this session, we focus on web APIs over HTTP that let a user query and retrieve data over the Internet.  This type of API documents an agreed-upon structure and content of requests and responses a program can use to interact with a system.  As long as your code adheres to a system's API, it should be able to reliabily request and receive data from the system.\n",
    "\n",
    "Below, we show how to make network API requests using HTTP(S)."
   ]
  },
  {
   "cell_type": "markdown",
   "metadata": {},
   "source": [
    "## Learning Objectives\n",
    "\n",
    "- Back to [Table of Contents](#Table-of-Contents)\n",
    "\n",
    "** Learning objectives:**\n",
    "\n",
    "- **Become familiar with different types of APIs.** Includes GET- and POST- based HTTP APIs, different formats of request bodies for POST-based APIs (form inputs, arbitrary JSON and XML, and then formalized dialects of each like SOAP), and how to learn a given API.\n",
    "- **Learn the tools used to interact with network-based APIs.** Understand the tools for talking directly with APIs over HTTP connection, introduce libraries that abstract the details of the API and present a simplified programmatic interface, and then understand how to choose a tool."
   ]
  },
  {
   "cell_type": "markdown",
   "metadata": {},
   "source": [
    "## Topics\n",
    "\n",
    "- Back to [Table of Contents](#Table-of-Contents)\n",
    "\n",
    "Outline of topics covered in this notebook:\n",
    "\n",
    "- Making raw HTTP API requests\n",
    "- Using pre-packaged API client libraries\n",
    "- Practical considerations - Knowing API rules and coding to follow them, and performance\n",
    "- Example: OpenTripPlanner"
   ]
  },
  {
   "cell_type": "markdown",
   "metadata": {},
   "source": [
    "# Setup - Load Python packages\n",
    "\n",
    "- back to [Table of Contents](#Table-of-Contents)"
   ]
  },
  {
   "cell_type": "code",
   "execution_count": 1,
   "metadata": {
    "collapsed": true
   },
   "outputs": [],
   "source": [
    "## import Python packages ##\n",
    "import time # to convert time as needed and report how long some functions take\n",
    "\n",
    "# interacting with websites and web-APIs\n",
    "import requests # easy way to interact with web sites and services\n",
    "import json # read/write JavaScript Object Notation (JSON)\n",
    "from bs4 import BeautifulSoup\n",
    "\n",
    "# data manipulation\n",
    "import pandas as pd # easy data manipulation\n",
    "import geopandas as gpd # geographic data manipulation\n",
    "# from geopandas.tools import sjoin, overlay # spatial join and overlay functions\n",
    "from shapely.geometry import Point, LineString # to create lines from a list of points\n",
    "\n",
    "# visualization\n",
    "import matplotlib as mplib\n",
    "import matplotlib.pyplot as plt # visualization package\n",
    "\n",
    "# so images get plotted in the notebook\n",
    "%matplotlib inline"
   ]
  },
  {
   "cell_type": "code",
   "execution_count": 2,
   "metadata": {
    "collapsed": false
   },
   "outputs": [
    {
     "name": "stdout",
     "output_type": "stream",
     "text": [
      "Package versions\n",
      "requests: 2.13.0\n",
      "json: 2.0.9\n",
      "pandas: 0.19.2\n",
      "geopandas: 0.3.0\n",
      "matplotlib: 2.0.0\n"
     ]
    }
   ],
   "source": [
    "print(\"Package versions\")\n",
    "print(\"requests: {}\".format(requests.__version__))\n",
    "print(\"json: {}\".format(json.__version__))\n",
    "print(\"pandas: {}\".format(pd.__version__))\n",
    "print(\"geopandas: {}\".format(gpd.__version__)) # check that correct version of geopandas is installed, should be v0.2+\n",
    "print(\"matplotlib: {}\".format(mplib.__version__))"
   ]
  },
  {
   "cell_type": "markdown",
   "metadata": {},
   "source": [
    "# Using APIs\n",
    "\n",
    "- Back to the [Table of Contents](#Table-of-Contents)\n",
    "\n",
    "API overview\n",
    "+ In general: APIs ([Application Programming Interfaces](https://en.wikipedia.org/wiki/Application_programming_interface)) are \"set[s] of subroutine definitions, protocols, and tools for building software and applications. A good API makes it easier to develop a program by providing all the building blocks, which are then put together by the programmer.\"\n",
    "+ Here we're looking at a **web-API**, a specific type of API which makes it easier to interact with some aspect of a website. In this course, we'll be using APIs to gether data in an automated way - like grabbing a bunch of prior tweets from Twitter. More generally, APIs can also be used to interact with websites in any way the API is designed to. For instance, you can post and delete tweets with Twitter's API, too."
   ]
  },
  {
   "cell_type": "markdown",
   "metadata": {},
   "source": [
    "## Geocoding\n",
    "\n",
    "- Back to the [Table of Contents](#Table-of-Contents)\n",
    "\n",
    "We have scraped addresses, but OTP works best with latitude and longitude coordinates. We can use the [geocoder module](https://pypi.python.org/pypi/geocoder) to get latitude and longitude exactly just from the organization addresses. Note this is a combination of great tools - a simple Python module (`geocoder`) interacting with Google's wonderful geocoding API. The code below would work out in the wild, but since we are working in a restricted environment, we can't get to the Google API.\n",
    "\n",
    "The geocoder module can speak to a wide range of external services, including ArcGIS, Bing, MapBox, OpenStreetMaps, and many others, in addition to Google. The API lets you geocode (addresses to latitue and longitude), reverse geocode (latitude and longitude to addresses), as well as get timezones and elevations on locations."
   ]
  },
  {
   "cell_type": "markdown",
   "metadata": {},
   "source": [
    "### Google geocoder API\n",
    "\n",
    "Use [Google API](https://developers.google.com/maps/documentation/geocoding/intro) to geocode service locations"
   ]
  },
  {
   "cell_type": "code",
   "execution_count": 3,
   "metadata": {
    "collapsed": false
   },
   "outputs": [
    {
     "data": {
      "text/html": [
       "<div>\n",
       "<table border=\"1\" class=\"dataframe\">\n",
       "  <thead>\n",
       "    <tr style=\"text-align: right;\">\n",
       "      <th></th>\n",
       "      <th>Unnamed: 0</th>\n",
       "      <th>address</th>\n",
       "      <th>center_name</th>\n",
       "      <th>phone_number</th>\n",
       "    </tr>\n",
       "  </thead>\n",
       "  <tbody>\n",
       "    <tr>\n",
       "      <th>0</th>\n",
       "      <td>0</td>\n",
       "      <td>5957 W 87th St. Oak Lawn IL 60453</td>\n",
       "      <td>A.E.R.O. Special Education</td>\n",
       "      <td>(708) 499-0181</td>\n",
       "    </tr>\n",
       "    <tr>\n",
       "      <th>1</th>\n",
       "      <td>1</td>\n",
       "      <td>6707 North Ave. Oak Park IL 60302</td>\n",
       "      <td>African American Christian Foundation</td>\n",
       "      <td>(708) 848-1700</td>\n",
       "    </tr>\n",
       "    <tr>\n",
       "      <th>2</th>\n",
       "      <td>2</td>\n",
       "      <td>1945 W Wilson Chicago IL 60640</td>\n",
       "      <td>Albany Park Community Center</td>\n",
       "      <td>(773) 539-3828</td>\n",
       "    </tr>\n",
       "    <tr>\n",
       "      <th>3</th>\n",
       "      <td>3</td>\n",
       "      <td>1807 W Sunnyside Suite 1D Chicago IL 60640</td>\n",
       "      <td>Alternative Schools Network</td>\n",
       "      <td>(773) 728-4030</td>\n",
       "    </tr>\n",
       "    <tr>\n",
       "      <th>4</th>\n",
       "      <td>4</td>\n",
       "      <td>723 W Algonquin Arlington Heights IL 60005</td>\n",
       "      <td>Arlington Heights Workforce CenterBusiness &amp; C...</td>\n",
       "      <td>(847) 981-7400</td>\n",
       "    </tr>\n",
       "  </tbody>\n",
       "</table>\n",
       "</div>"
      ],
      "text/plain": [
       "   Unnamed: 0                                     address  \\\n",
       "0           0           5957 W 87th St. Oak Lawn IL 60453   \n",
       "1           1           6707 North Ave. Oak Park IL 60302   \n",
       "2           2              1945 W Wilson Chicago IL 60640   \n",
       "3           3  1807 W Sunnyside Suite 1D Chicago IL 60640   \n",
       "4           4  723 W Algonquin Arlington Heights IL 60005   \n",
       "\n",
       "                                         center_name    phone_number  \n",
       "0                         A.E.R.O. Special Education  (708) 499-0181  \n",
       "1              African American Christian Foundation  (708) 848-1700  \n",
       "2                       Albany Park Community Center  (773) 539-3828  \n",
       "3                        Alternative Schools Network  (773) 728-4030  \n",
       "4  Arlington Heights Workforce CenterBusiness & C...  (847) 981-7400  "
      ]
     },
     "execution_count": 3,
     "metadata": {},
     "output_type": "execute_result"
    }
   ],
   "source": [
    "centers_df = pd.read_csv('./data/chicago-workforce-centers.csv')\n",
    "centers_df.head()"
   ]
  },
  {
   "cell_type": "code",
   "execution_count": 4,
   "metadata": {
    "collapsed": false
   },
   "outputs": [
    {
     "data": {
      "text/plain": [
       "(55, 4)"
      ]
     },
     "execution_count": 4,
     "metadata": {},
     "output_type": "execute_result"
    }
   ],
   "source": [
    "centers_df.shape"
   ]
  },
  {
   "cell_type": "code",
   "execution_count": 5,
   "metadata": {
    "collapsed": false
   },
   "outputs": [
    {
     "name": "stdout",
     "output_type": "stream",
     "text": [
      "No result or over query limit for 6707 North Ave. Oak Park IL 60302, adding empty value as placeholder\n",
      "No result or over query limit for 1945 W Wilson Chicago IL 60640, adding empty value as placeholder\n",
      "No result or over query limit for 1250 Portland Ave.Chicago Heights IL 60411, adding empty value as placeholder\n",
      "No result or over query limit for 3400 S Emerald St. Chicago IL 60616; 2102 W Monroe  Chicago IL 60612;  9600 S Vincennes Chicago IL 60643, adding empty value as placeholder\n",
      "No result or over query limit for 1000 E. 111th St. 10th Floor Chicago IL 60628, adding empty value as placeholder\n",
      "No result or over query limit for 130 E. Randolph Ste. 2600 Chicago IL 60601, adding empty value as placeholder\n",
      "No result or over query limit for Prairie State CollegeATOC Building202 S. Halsted, Suite 148Chicago Heights, IL 60411, adding empty value as placeholder\n",
      "No result or over query limit for 1347 W Erie Chicago IL 60642, adding empty value as placeholder\n",
      "No result or over query limit for 500 N. Sacramento Chicago IL 60612790 N MilwaukeeChicago IL 60642, adding empty value as placeholder\n",
      "No result or over query limit for 1527 W MorseChicago IL 606261623 W HowardChicago IL 60626, adding empty value as placeholder\n",
      "No result or over query limit for 4554 N Broadway Chicago IL 60640, adding empty value as placeholder\n",
      "No result or over query limit for 216 W. JacksonChicago IL 60606300 Revere Dr.Northbrook IL 60062, adding empty value as placeholder\n",
      "No result or over query limit for 850 W. Jackson Suite 260 Chicago IL 60607, adding empty value as placeholder\n",
      "No result or over query limit for 1010 Dixie Hwy #102 Chicago Heights IL 60411200 W Adams Chicago IL 60606, adding empty value as placeholder\n",
      "No result or over query limit for 9000 West College Parkway Palos Hills IL 60463, adding empty value as placeholder\n",
      "No result or over query limit for 3834 N. Cicero Chicago IL 60641, adding empty value as placeholder\n",
      "No result or over query limit for 202 S. Halsted Street  (ATOC Building 148) Chicago Heights IL 60411, adding empty value as placeholder\n",
      "No result or over query limit for 3057 N. Lincoln Ave. Chicago IL 60657, adding empty value as placeholder\n",
      "No result or over query limit for 571 West Jackson Blvd. Chicago IL 6066115402 Center Harvey IL 60426, adding empty value as placeholder\n",
      "No result or over query limit for 5060 N. Broadway 6th floor, Suite#690Chicago IL 60640, adding empty value as placeholder\n",
      "No result or over query limit for 15800 S. State St. South Holland IL 60473, adding empty value as placeholder\n",
      "No result or over query limit for 7909 S. Racine Chicago IL 60620, adding empty value as placeholder\n",
      "No result or over query limit for 8151 Ridgeway Ave. Skokie IL 60076, adding empty value as placeholder\n",
      "No result or over query limit for 228 S. Wabash Ave. Ste. 600 Chicago IL 60604, adding empty value as placeholder\n",
      "No result or over query limit for 2121 S. Goebbert Rd. Arlington Heights IL 60005, adding empty value as placeholder\n",
      "No result or over query limit for 10325 South Halsted StreetChicago IL 60628, adding empty value as placeholder\n",
      "No result or over query limit for 4343 W Wrightwood Ave Chicago IL 60639936 N Ashland Ave Chicago IL 606226520 S Wood St Chicago IL 60636, adding empty value as placeholder\n",
      "No result or over query limit for 1114 Church Street Evanston IL 60201, adding empty value as placeholder\n"
     ]
    }
   ],
   "source": [
    "import geocoder\n",
    "\n",
    "lat = []\n",
    "lon = []\n",
    "\n",
    "for add in centers_df[\"address\"]:\n",
    "    g = geocoder.google(add)\n",
    "    \n",
    "    if g.status == 'OK':\n",
    "        lon.append(g.latlng[1])\n",
    "        lat.append(g.latlng[0])\n",
    "    else:\n",
    "        print('No result or over query limit for {}, adding empty value as placeholder'.format(add))\n",
    "        lon.append(None)\n",
    "        lat.append(None)\n"
   ]
  },
  {
   "cell_type": "code",
   "execution_count": 6,
   "metadata": {
    "collapsed": true
   },
   "outputs": [],
   "source": [
    "# add results to our data frame\n",
    "\n",
    "centers_df[\"latitude\"] = pd.Series(lat)\n",
    "centers_df[\"longitude\"] = pd.Series(lon)"
   ]
  },
  {
   "cell_type": "code",
   "execution_count": 7,
   "metadata": {
    "collapsed": true
   },
   "outputs": [],
   "source": [
    "# optional hardcoded values if needed\n",
    "\n",
    "# lat = [41.733737,\n",
    "#             41.9087846,\n",
    "#             41.9647695,\n",
    "#             41.9631174,\n",
    "#             42.0457523,\n",
    "#             41.9697109,\n",
    "#             41.9252578,\n",
    "#             41.4824241,\n",
    "#             41.5081785,\n",
    "#             41.8322347,\n",
    "#             41.6944193,\n",
    "#             41.8444394,\n",
    "#             41.8849173,\n",
    "#             41.5255653,\n",
    "#             41.8543913,\n",
    "#             41.8511856,\n",
    "#             41.8931701,\n",
    "#             41.8804296,\n",
    "#             41.8905965,\n",
    "#             42.0076194,\n",
    "#             41.9647485,\n",
    "#             41.8457521,\n",
    "#             41.8409604,\n",
    "#             41.9589605]\n",
    "\n",
    "# lon = [-87.770246,\n",
    "#              -87.7931388,\n",
    "#              -87.6786497,\n",
    "#              -87.6748518,\n",
    "#              -87.9922059,\n",
    "#              -87.6598793,\n",
    "#              -87.7008122,\n",
    "#              -87.6782855,\n",
    "#              -87.6234975,\n",
    "#              -87.5990999,\n",
    "#              -87.5990999,\n",
    "#              -87.7236882,\n",
    "#              -87.6231249,\n",
    "#              -87.6386009,\n",
    "#              -87.6355797,\n",
    "#              -87.7775432,\n",
    "#              -87.6614166,\n",
    "#              -87.7066519,\n",
    "#              -87.702801,\n",
    "#              -87.6689743,\n",
    "#              -87.6570292,\n",
    "#              -87.6858569,\n",
    "#              -87.6862319,\n",
    "#              -87.6747326]"
   ]
  },
  {
   "cell_type": "code",
   "execution_count": 8,
   "metadata": {
    "collapsed": false,
    "scrolled": true
   },
   "outputs": [
    {
     "name": "stdout",
     "output_type": "stream",
     "text": [
      "(27, 6)\n"
     ]
    },
    {
     "data": {
      "text/html": [
       "<div>\n",
       "<table border=\"1\" class=\"dataframe\">\n",
       "  <thead>\n",
       "    <tr style=\"text-align: right;\">\n",
       "      <th></th>\n",
       "      <th>Unnamed: 0</th>\n",
       "      <th>address</th>\n",
       "      <th>center_name</th>\n",
       "      <th>phone_number</th>\n",
       "      <th>latitude</th>\n",
       "      <th>longitude</th>\n",
       "    </tr>\n",
       "  </thead>\n",
       "  <tbody>\n",
       "    <tr>\n",
       "      <th>0</th>\n",
       "      <td>0</td>\n",
       "      <td>5957 W 87th St. Oak Lawn IL 60453</td>\n",
       "      <td>A.E.R.O. Special Education</td>\n",
       "      <td>(708) 499-0181</td>\n",
       "      <td>41.733737</td>\n",
       "      <td>-87.770246</td>\n",
       "    </tr>\n",
       "    <tr>\n",
       "      <th>3</th>\n",
       "      <td>3</td>\n",
       "      <td>1807 W Sunnyside Suite 1D Chicago IL 60640</td>\n",
       "      <td>Alternative Schools Network</td>\n",
       "      <td>(773) 728-4030</td>\n",
       "      <td>41.963117</td>\n",
       "      <td>-87.674852</td>\n",
       "    </tr>\n",
       "    <tr>\n",
       "      <th>4</th>\n",
       "      <td>4</td>\n",
       "      <td>723 W Algonquin Arlington Heights IL 60005</td>\n",
       "      <td>Arlington Heights Workforce CenterBusiness &amp; C...</td>\n",
       "      <td>(847) 981-7400</td>\n",
       "      <td>42.045752</td>\n",
       "      <td>-87.992206</td>\n",
       "    </tr>\n",
       "    <tr>\n",
       "      <th>5</th>\n",
       "      <td>5</td>\n",
       "      <td>4820 N Broadway 3rd Floor Chicago IL 60640</td>\n",
       "      <td>Asian Human Services</td>\n",
       "      <td>(773) 293-8119</td>\n",
       "      <td>41.969711</td>\n",
       "      <td>-87.659879</td>\n",
       "    </tr>\n",
       "    <tr>\n",
       "      <th>6</th>\n",
       "      <td>6</td>\n",
       "      <td>2415 N. Milwaukee Chicago IL 60647</td>\n",
       "      <td>Aspira</td>\n",
       "      <td>(773) 770-1940</td>\n",
       "      <td>41.925258</td>\n",
       "      <td>-87.700812</td>\n",
       "    </tr>\n",
       "  </tbody>\n",
       "</table>\n",
       "</div>"
      ],
      "text/plain": [
       "   Unnamed: 0                                     address  \\\n",
       "0           0           5957 W 87th St. Oak Lawn IL 60453   \n",
       "3           3  1807 W Sunnyside Suite 1D Chicago IL 60640   \n",
       "4           4  723 W Algonquin Arlington Heights IL 60005   \n",
       "5           5  4820 N Broadway 3rd Floor Chicago IL 60640   \n",
       "6           6          2415 N. Milwaukee Chicago IL 60647   \n",
       "\n",
       "                                         center_name    phone_number  \\\n",
       "0                         A.E.R.O. Special Education  (708) 499-0181   \n",
       "3                        Alternative Schools Network  (773) 728-4030   \n",
       "4  Arlington Heights Workforce CenterBusiness & C...  (847) 981-7400   \n",
       "5                               Asian Human Services  (773) 293-8119   \n",
       "6                                             Aspira  (773) 770-1940   \n",
       "\n",
       "    latitude  longitude  \n",
       "0  41.733737 -87.770246  \n",
       "3  41.963117 -87.674852  \n",
       "4  42.045752 -87.992206  \n",
       "5  41.969711 -87.659879  \n",
       "6  41.925258 -87.700812  "
      ]
     },
     "execution_count": 8,
     "metadata": {},
     "output_type": "execute_result"
    }
   ],
   "source": [
    "# if use hardcoded:\n",
    "# centers_lim = centers_df[0:24]\n",
    "# centers_lim[\"latitude\"] = pd.Series(lat)\n",
    "# centers_lim[\"longitude\"] = pd.Series(lon)\n",
    "\n",
    "# if use geocoded values\n",
    "centers_lim = centers_df[~centers_df['latitude'].isnull()]\n",
    "print(centers_lim.shape)\n",
    "centers_lim.head()"
   ]
  },
  {
   "cell_type": "markdown",
   "metadata": {},
   "source": [
    "\n",
    "#### OpenTripPlanner\n",
    "[OpenTripPlanner (OTP)](http://docs.opentripplanner.org/en/latest/) is an open source routing software that provides a number of services, here we'll explore:\n",
    "1. [Index API](#Index-API) - provides information about the data loaded into OTP, for instance what transportation agencies' data are included;\n",
    "2. [Routing API](#Routing-API) - creates a plan for how to get from one location to another, with a number of additional options such as:\n",
    "  * Departure time (and date) - if you're curious about a specific departure time or date;\n",
    "  * transit modes - default is to consider any public transportation option in the system, but it can also be set to \"AUTO\" to do vehicle routing or \"WALK\" for walking only directions.\n",
    "  \n",
    "3. [Isochrone API](#Isochrone-API) - generates a polygon representing the area a traveler can reach if they start from a given location and travel for a specified amount of time (isochrone means 'equal time').\n",
    "\n",
    "Data:\n",
    "+ OpenStreetMap (OSM) for [Chicago from Mapzen's Metro Extracts](https://mapzen.com/data/metro-extracts/metro/chicago_illinois/)\n",
    "+ General Transit Feed Specification (GTFS) for [Chicago from transit.land](https://transit.land/feed-registry/?metro=Chicago)\n",
    "\n",
    "If we \"build a graph\" locally we can go to our browser here (http://localhost:8080/) and see what we have."
   ]
  },
  {
   "cell_type": "markdown",
   "metadata": {},
   "source": [
    "## RESTful APIs\n",
    "\n",
    "- Back to the [Table of Contents](#Table-of-Contents)\n",
    "\n",
    "The OTP APIs are what is called \"[RESTful](https://en.wikipedia.org/wiki/Representational_state_transfer)\" web services. REST stands for REpresentational State Transfer, but don't worry about the acronym so much as the idea. RESTful services adhere to a [series of requirements](https://www.restapitutorial/whatisrest.html) that enable them to be consistent, scalable, reliable, and relatively simple. RESTful APIs allow you to access a pre-defined set of operations through HTTP(S) requests. REST is fantastic because, in part, if you can generate the right URL, you'll always get the right response (this was not always the case with SOAP - the predecessor to REST).\n",
    "\n",
    "To use a RESTful API, we'll need to understand (1) how to properly format the request and (2) how to manage and make use of the response from the API. Below we will walk through these concepts while using some of OTP's web services."
   ]
  },
  {
   "cell_type": "code",
   "execution_count": 9,
   "metadata": {
    "collapsed": false
   },
   "outputs": [],
   "source": [
    "### First, we need to set a few parameters. ###\n",
    "\n",
    "# base URL where OTP is installed\n",
    "base_url = \"http://localhost:8080/otp/routers/\""
   ]
  },
  {
   "cell_type": "code",
   "execution_count": 10,
   "metadata": {
    "collapsed": false
   },
   "outputs": [
    {
     "name": "stdout",
     "output_type": "stream",
     "text": [
      "http://localhost:8080/otp/routers/default/\n"
     ]
    }
   ],
   "source": [
    "# Router ID - \n",
    "# OTP could have many different routers available for different cities or subsets of transportation agencies.\n",
    "# in this example we only have one, unnamed router for Chicago\n",
    "routerID = 'default/' # \n",
    "\n",
    "# update base_url to include router name\n",
    "base_url += routerID\n",
    "print(base_url)"
   ]
  },
  {
   "cell_type": "markdown",
   "metadata": {},
   "source": [
    "### Index API\n",
    "\n",
    "- Back to the [Table of Contents](#Table-of-Contents)\n",
    "\n",
    "The Index API provides access to general information about the data loaded into a given OTP router (as specified by the 'routerID' variable set above). Full list of [options are here](http://dev.opentripplanner.org/apidoc/1.0.0/resource_IndexAPI.html).\n",
    "\n",
    "Below, we can make a request simply by taking our base URL and adding the `feeds` endpoint. Here, we use the term endpoint to refer to the completed URL that links to the most granular aspect of an API. The combination of the router id, index API, and feeds request make up our endpoint. This will provide a list of data feeds available for the router we've selected."
   ]
  },
  {
   "cell_type": "code",
   "execution_count": 11,
   "metadata": {
    "collapsed": false
   },
   "outputs": [
    {
     "name": "stdout",
     "output_type": "stream",
     "text": [
      "[\"1\",\"2\",\"3\"]\n"
     ]
    }
   ],
   "source": [
    "# Set up query URL\n",
    "qry_url = '{}index/feeds'.format(base_url)\n",
    "\n",
    "# Again, since we are still using HTTP, we can use the requests package's get \n",
    "response = requests.get(qry_url)\n",
    "\n",
    "# Convert response to text\n",
    "response = response.text\n",
    "\n",
    "# Our response is a JSON array:\n",
    "print(response)"
   ]
  },
  {
   "cell_type": "markdown",
   "metadata": {},
   "source": [
    "## JSON\n",
    "\n",
    "- Back to the [Table of Contents](#Table-of-Contents)\n",
    "\n",
    "[JSON](www.json.org) is a common non-tabular data format often used by services and software on the internet. We'll introduce JSON slowly, but it's helpful to know that it is oriented around the idea of `key-value` pairs. The `keys` refer to information about the data while the `values` is the data itself. For instance, if you were to translate a tabular dataset into JSON, the column names (and possibly row names/numbers) would become `keys`, while the data in the cells would become `values`. Our first JSON response is a simple array, the equivalent of a Python list."
   ]
  },
  {
   "cell_type": "code",
   "execution_count": 12,
   "metadata": {
    "collapsed": false
   },
   "outputs": [
    {
     "name": "stdout",
     "output_type": "stream",
     "text": [
      "<class 'list'>\n",
      "['1', '2', '3']\n"
     ]
    }
   ],
   "source": [
    "# Convert text to a Python object using the 'json' package\n",
    "feeds = json.loads(response)\n",
    "\n",
    "# And now we have a Python list:\n",
    "print(type(feeds))\n",
    "print(feeds)"
   ]
  },
  {
   "cell_type": "markdown",
   "metadata": {},
   "source": [
    "This is just a list of feed IDs created by OTP - so there are three agencies providing data feeds to our version of the OTP. This is not particularly informative, but we did get a response from the web API. Let's check the 'agencies' endpoint to see what more it provides."
   ]
  },
  {
   "cell_type": "code",
   "execution_count": 13,
   "metadata": {
    "collapsed": false
   },
   "outputs": [
    {
     "name": "stdout",
     "output_type": "stream",
     "text": [
      "http://localhost:8080/otp/routers/default/index/agencies/1\n",
      "[{'id': '1', 'name': 'Chicago Transit Authority', 'url': 'http://transitchicago.com', 'timezone': 'America/Chicago', 'lang': 'en', 'phone': '1-888-YOURCTA', 'fareUrl': 'http://www.transitchicago.com/travel_information/fares/default.aspx'}]\n"
     ]
    }
   ],
   "source": [
    "## We can use the /agences resource of the Index API to get more information.\n",
    "## Below, we combine the previous steps into one line and ask for the agency associated with the first feed:\n",
    "print('{}index/agencies/{}'.format(base_url, '1')) \n",
    "print(json.loads(requests.get('{}index/agencies/{}'.format(base_url, '1')).text))"
   ]
  },
  {
   "cell_type": "markdown",
   "metadata": {},
   "source": [
    "This is more helpful - we now know the agency associated with the feed id, as well as its website and other information. Let's use a loop to repeat this for the other feeds."
   ]
  },
  {
   "cell_type": "code",
   "execution_count": 14,
   "metadata": {
    "collapsed": false
   },
   "outputs": [
    {
     "name": "stdout",
     "output_type": "stream",
     "text": [
      "feed 1\n",
      "[{'id': '1', 'name': 'Chicago Transit Authority', 'url': 'http://transitchicago.com', 'timezone': 'America/Chicago', 'lang': 'en', 'phone': '1-888-YOURCTA', 'fareUrl': 'http://www.transitchicago.com/travel_information/fares/default.aspx'}]\n",
      "\n",
      "feed 2\n",
      "[{'id': 'METRA', 'name': 'Metra', 'url': 'http://www.metrarail.com/', 'timezone': 'America/Chicago', 'lang': 'EN'}]\n",
      "\n",
      "feed 3\n",
      "[{'id': 'PACE', 'name': 'PACE', 'url': 'http://www.pacebus.com', 'timezone': 'America/Chicago', 'lang': 'en'}]\n",
      "\n"
     ]
    }
   ],
   "source": [
    "## Let's do the same for each feed:\n",
    "for feed in feeds:\n",
    "\n",
    "    # print out which feed we're looking at on this pass of the loop\n",
    "    print(\"feed {}\".format(feed))\n",
    "    \n",
    "    # get agency information for this feed just as we did above, but using the feed from our list of feeds\n",
    "    agency = json.loads(requests.get('{}index/agencies/{}'.format(base_url, feed)).text)\n",
    "    \n",
    "    print(agency)\n",
    "        \n",
    "    # add a blank line after each feed for legibility\n",
    "    print('')\n"
   ]
  },
  {
   "cell_type": "markdown",
   "metadata": {},
   "source": [
    "### API Documentation\n",
    "\n",
    "- Back to the [Table of Contents](#Table-of-Contents)\n",
    "\n",
    "If you want more information about what routes are included in a given feed, you can query the 'routes' resources as below. At this point, you may be wondering how you would know what resources and endpoints are available for a given API. This is where API documentation comes in. The [OpenTripPlanner Index API documentation](dev.opentripplanner.org/apidoc/0.20.0/resource_indexAPI.html) includes a list of valid HTTP methods (mostly get and a few post) for the resources and specific endpoints within the Index API.\n",
    "\n",
    "For instance, there is a valid HTTP get request for the URL `/routers/{routerid}/index/agencies/{feedId}` where routerid and feedId are changeable parameters. This is how you would have known that the above requests would be successful.\n",
    "\n",
    "Below, we can examine all the routes of one agency in the format: `/routers/{router_id}/index/agencies/{feedID}/{agencyID}/routes`"
   ]
  },
  {
   "cell_type": "code",
   "execution_count": 15,
   "metadata": {
    "collapsed": false
   },
   "outputs": [
    {
     "name": "stdout",
     "output_type": "stream",
     "text": [
      "[{'id': '1:1', 'shortName': '1', 'longName': 'Bronzeville/Union Station', 'mode': 'BUS', 'agencyName': 'Chicago Transit Authority'}, {'id': '1:121', 'shortName': '121', 'longName': 'Union/Wacker Express', 'mode': 'BUS', 'agencyName': 'Chicago Transit Authority'}, {'id': '1:124', 'shortName': '124', 'longName': 'Navy Pier', 'mode': 'BUS', 'agencyName': 'Chicago Transit Authority'}, {'id': '1:3', 'shortName': '3', 'longName': 'King Drive', 'mode': 'BUS', 'agencyName': 'Chicago Transit Authority'}, {'id': '1:2', 'shortName': '2', 'longName': 'Hyde Park Express', 'mode': 'BUS', 'agencyName': 'Chicago Transit Authority'}, {'id': '1:126', 'shortName': '126', 'longName': 'Jackson', 'mode': 'BUS', 'agencyName': 'Chicago Transit Authority'}, {'id': '1:5', 'shortName': '5', 'longName': 'South Shore Night Bus', 'mode': 'BUS', 'agencyName': 'Chicago Transit Authority'}, {'id': '1:4', 'shortName': '4', 'longName': 'Cottage Grove', 'mode': 'BUS', 'agencyName': 'Chicago Transit Authority'}, {'id': '1:125', 'shortName': '125', 'longName': 'Water Tower Express', 'mode': 'BUS', 'agencyName': 'Chicago Transit Authority'}, {'id': '1:7', 'shortName': '7', 'longName': 'Harrison', 'mode': 'BUS', 'agencyName': 'Chicago Transit Authority'}, {'id': '1:6', 'shortName': '6', 'longName': 'Jackson Park Express', 'mode': 'BUS', 'agencyName': 'Chicago Transit Authority'}, {'id': '1:9', 'shortName': '9', 'longName': 'Ashland', 'mode': 'BUS', 'agencyName': 'Chicago Transit Authority'}, {'id': '1:8', 'shortName': '8', 'longName': 'Halsted', 'mode': 'BUS', 'agencyName': 'Chicago Transit Authority'}, {'id': '1:21', 'shortName': '21', 'longName': 'Cermak', 'mode': 'BUS', 'agencyName': 'Chicago Transit Authority'}, {'id': '1:20', 'shortName': '20', 'longName': 'Madison', 'mode': 'BUS', 'agencyName': 'Chicago Transit Authority'}, {'id': '1:12', 'shortName': '12', 'longName': 'Roosevelt', 'mode': 'BUS', 'agencyName': 'Chicago Transit Authority'}, {'id': '1:11', 'shortName': '11', 'longName': 'Lincoln', 'mode': 'BUS', 'agencyName': 'Chicago Transit Authority'}, {'id': '1:15', 'shortName': '15', 'longName': 'Jeffery Local', 'mode': 'BUS', 'agencyName': 'Chicago Transit Authority'}, {'id': '1:18', 'shortName': '18', 'longName': '16th-18th', 'mode': 'BUS', 'agencyName': 'Chicago Transit Authority'}, {'id': '1:19', 'shortName': '19', 'longName': 'United Center Express', 'mode': 'BUS', 'agencyName': 'Chicago Transit Authority'}, {'id': '1:120', 'shortName': '120', 'longName': 'Ogilvie/Wacker Express', 'mode': 'BUS', 'agencyName': 'Chicago Transit Authority'}, {'id': '1:111', 'shortName': '111', 'longName': '111th/King Drive', 'mode': 'BUS', 'agencyName': 'Chicago Transit Authority'}, {'id': '1:112', 'shortName': '112', 'longName': 'Vincennes/111th', 'mode': 'BUS', 'agencyName': 'Chicago Transit Authority'}, {'id': '1:115', 'shortName': '115', 'longName': 'Pullman/115th', 'mode': 'BUS', 'agencyName': 'Chicago Transit Authority'}, {'id': '1:119', 'shortName': '119', 'longName': 'Michigan/119th', 'mode': 'BUS', 'agencyName': 'Chicago Transit Authority'}, {'id': '1:Red', 'longName': 'Red Line', 'mode': 'SUBWAY', 'color': 'C60C30', 'agencyName': 'Chicago Transit Authority'}, {'id': '1:143', 'shortName': '143', 'longName': 'Stockton/Michigan Express', 'mode': 'BUS', 'agencyName': 'Chicago Transit Authority'}, {'id': '1:146', 'shortName': '146', 'longName': 'Inner Drive/Michigan Express', 'mode': 'BUS', 'agencyName': 'Chicago Transit Authority'}, {'id': '1:148', 'shortName': '148', 'longName': 'Clarendon Michigan Express', 'mode': 'BUS', 'agencyName': 'Chicago Transit Authority'}, {'id': '1:147', 'shortName': '147', 'longName': 'Outer Drive Express', 'mode': 'BUS', 'agencyName': 'Chicago Transit Authority'}, {'id': '1:43', 'shortName': '43', 'longName': '43rd', 'mode': 'BUS', 'agencyName': 'Chicago Transit Authority'}, {'id': '1:81W', 'shortName': '81W', 'longName': 'West Lawrence', 'mode': 'BUS', 'agencyName': 'Chicago Transit Authority'}, {'id': '1:34', 'shortName': '34', 'longName': 'South Michigan', 'mode': 'BUS', 'agencyName': 'Chicago Transit Authority'}, {'id': '1:36', 'shortName': '36', 'longName': 'Broadway', 'mode': 'BUS', 'agencyName': 'Chicago Transit Authority'}, {'id': '1:35', 'shortName': '35', 'longName': '35th', 'mode': 'BUS', 'agencyName': 'Chicago Transit Authority'}, {'id': '1:Blue', 'longName': 'Blue Line', 'mode': 'SUBWAY', 'color': '00A1DE', 'agencyName': 'Chicago Transit Authority'}, {'id': '1:37', 'shortName': '37', 'longName': 'Sedgwick', 'mode': 'BUS', 'agencyName': 'Chicago Transit Authority'}, {'id': '1:39', 'shortName': '39', 'longName': 'Pershing', 'mode': 'BUS', 'agencyName': 'Chicago Transit Authority'}, {'id': '1:P', 'longName': 'Purple Line', 'mode': 'SUBWAY', 'color': '522398', 'agencyName': 'Chicago Transit Authority'}, {'id': '1:132', 'shortName': '132', 'longName': 'Goose Island Express', 'mode': 'BUS', 'agencyName': 'Chicago Transit Authority'}, {'id': '1:135', 'shortName': '135', 'longName': 'Clarendon/LaSalle Express', 'mode': 'BUS', 'agencyName': 'Chicago Transit Authority'}, {'id': '1:134', 'shortName': '134', 'longName': 'Stockton/LaSalle Express', 'mode': 'BUS', 'agencyName': 'Chicago Transit Authority'}, {'id': '1:136', 'shortName': '136', 'longName': 'Sheridan/LaSalle Express', 'mode': 'BUS', 'agencyName': 'Chicago Transit Authority'}, {'id': '1:Y', 'longName': 'Yellow Line', 'mode': 'SUBWAY', 'color': 'F9E300', 'agencyName': 'Chicago Transit Authority'}, {'id': '1:49B', 'shortName': '49B', 'longName': 'North Western', 'mode': 'BUS', 'agencyName': 'Chicago Transit Authority'}, {'id': '1:30', 'shortName': '30', 'longName': 'South Chicago', 'mode': 'BUS', 'agencyName': 'Chicago Transit Authority'}, {'id': '1:31', 'shortName': '31', 'longName': '31st', 'mode': 'BUS', 'agencyName': 'Chicago Transit Authority'}, {'id': '1:22', 'shortName': '22', 'longName': 'Clark', 'mode': 'BUS', 'agencyName': 'Chicago Transit Authority'}, {'id': '1:24', 'shortName': '24', 'longName': 'Wentworth', 'mode': 'BUS', 'agencyName': 'Chicago Transit Authority'}, {'id': '1:26', 'shortName': '26', 'longName': 'South Shore Express', 'mode': 'BUS', 'agencyName': 'Chicago Transit Authority'}, {'id': '1:111A', 'shortName': '111A', 'longName': 'Pullman Shuttle', 'mode': 'BUS', 'agencyName': 'Chicago Transit Authority'}, {'id': '1:29', 'shortName': '29', 'longName': 'State', 'mode': 'BUS', 'agencyName': 'Chicago Transit Authority'}, {'id': '1:G', 'longName': 'Green Line', 'mode': 'SUBWAY', 'color': '009B3A', 'agencyName': 'Chicago Transit Authority'}, {'id': '1:28', 'shortName': '28', 'longName': 'Stony Island', 'mode': 'BUS', 'agencyName': 'Chicago Transit Authority'}, {'id': '1:130', 'shortName': '130', 'longName': 'Museum Campus', 'mode': 'BUS', 'agencyName': 'Chicago Transit Authority'}, {'id': '1:165', 'shortName': '165', 'longName': 'West 65th', 'mode': 'BUS', 'agencyName': 'Chicago Transit Authority'}, {'id': '1:169', 'shortName': '169', 'longName': '69th-UPS Express', 'mode': 'BUS', 'agencyName': 'Chicago Transit Authority'}, {'id': '1:60', 'shortName': '60', 'longName': 'Blue Island/26th', 'mode': 'BUS', 'agencyName': 'Chicago Transit Authority'}, {'id': '1:63', 'shortName': '63', 'longName': '63rd', 'mode': 'BUS', 'agencyName': 'Chicago Transit Authority'}, {'id': '1:62', 'shortName': '62', 'longName': 'Archer', 'mode': 'BUS', 'agencyName': 'Chicago Transit Authority'}, {'id': '1:65', 'shortName': '65', 'longName': 'Grand', 'mode': 'BUS', 'agencyName': 'Chicago Transit Authority'}, {'id': '1:56', 'shortName': '56', 'longName': 'Milwaukee', 'mode': 'BUS', 'agencyName': 'Chicago Transit Authority'}, {'id': '1:55', 'shortName': '55', 'longName': 'Garfield', 'mode': 'BUS', 'agencyName': 'Chicago Transit Authority'}, {'id': '1:57', 'shortName': '57', 'longName': 'Laramie', 'mode': 'BUS', 'agencyName': 'Chicago Transit Authority'}, {'id': '1:59', 'shortName': '59', 'longName': '59th/61st', 'mode': 'BUS', 'agencyName': 'Chicago Transit Authority'}, {'id': '1:155', 'shortName': '155', 'longName': 'Devon', 'mode': 'BUS', 'agencyName': 'Chicago Transit Authority'}, {'id': '1:157', 'shortName': '157', 'longName': 'Streeterville/Taylor', 'mode': 'BUS', 'agencyName': 'Chicago Transit Authority'}, {'id': '1:156', 'shortName': '156', 'longName': 'LaSalle', 'mode': 'BUS', 'agencyName': 'Chicago Transit Authority'}, {'id': '1:50', 'shortName': '50', 'longName': 'Damen', 'mode': 'BUS', 'agencyName': 'Chicago Transit Authority'}, {'id': '1:52', 'shortName': '52', 'longName': 'Kedzie/California', 'mode': 'BUS', 'agencyName': 'Chicago Transit Authority'}, {'id': '1:51', 'shortName': '51', 'longName': '51st', 'mode': 'BUS', 'agencyName': 'Chicago Transit Authority'}, {'id': '1:54', 'shortName': '54', 'longName': 'Cicero', 'mode': 'BUS', 'agencyName': 'Chicago Transit Authority'}, {'id': '1:53', 'shortName': '53', 'longName': 'Pulaski', 'mode': 'BUS', 'agencyName': 'Chicago Transit Authority'}, {'id': '1:44', 'shortName': '44', 'longName': 'Wallace-Racine', 'mode': 'BUS', 'agencyName': 'Chicago Transit Authority'}, {'id': '1:47', 'shortName': '47', 'longName': '47th', 'mode': 'BUS', 'agencyName': 'Chicago Transit Authority'}, {'id': '1:49', 'shortName': '49', 'longName': 'Western', 'mode': 'BUS', 'agencyName': 'Chicago Transit Authority'}, {'id': '1:48', 'shortName': '48', 'longName': 'South Damen', 'mode': 'BUS', 'agencyName': 'Chicago Transit Authority'}, {'id': '1:151', 'shortName': '151', 'longName': 'Sheridan', 'mode': 'BUS', 'agencyName': 'Chicago Transit Authority'}, {'id': '1:152', 'shortName': '152', 'longName': 'Addison', 'mode': 'BUS', 'agencyName': 'Chicago Transit Authority'}, {'id': '1:81', 'shortName': '81', 'longName': 'Lawrence', 'mode': 'BUS', 'agencyName': 'Chicago Transit Authority'}, {'id': '1:80', 'shortName': '80', 'longName': 'Irving Park', 'mode': 'BUS', 'agencyName': 'Chicago Transit Authority'}, {'id': '1:82', 'shortName': '82', 'longName': 'Kimball-Homan', 'mode': 'BUS', 'agencyName': 'Chicago Transit Authority'}, {'id': '1:85', 'shortName': '85', 'longName': 'Central', 'mode': 'BUS', 'agencyName': 'Chicago Transit Authority'}, {'id': '1:84', 'shortName': '84', 'longName': 'Peterson', 'mode': 'BUS', 'agencyName': 'Chicago Transit Authority'}, {'id': '1:87', 'shortName': '87', 'longName': '87th', 'mode': 'BUS', 'agencyName': 'Chicago Transit Authority'}, {'id': '1:86', 'shortName': '86', 'longName': 'Narragansett/Ridgeland', 'mode': 'BUS', 'agencyName': 'Chicago Transit Authority'}, {'id': '1:X9', 'shortName': 'X9', 'longName': 'Ashland Express', 'mode': 'BUS', 'agencyName': 'Chicago Transit Authority'}, {'id': '1:78', 'shortName': '78', 'longName': 'Montrose', 'mode': 'BUS', 'agencyName': 'Chicago Transit Authority'}, {'id': '1:77', 'shortName': '77', 'longName': 'Belmont', 'mode': 'BUS', 'agencyName': 'Chicago Transit Authority'}, {'id': '1:79', 'shortName': '79', 'longName': '79th', 'mode': 'BUS', 'agencyName': 'Chicago Transit Authority'}, {'id': '1:85A', 'shortName': '85A', 'longName': 'North Central', 'mode': 'BUS', 'agencyName': 'Chicago Transit Authority'}, {'id': '1:70', 'shortName': '70', 'longName': 'Division', 'mode': 'BUS', 'agencyName': 'Chicago Transit Authority'}, {'id': '1:72', 'shortName': '72', 'longName': 'North', 'mode': 'BUS', 'agencyName': 'Chicago Transit Authority'}, {'id': '1:71', 'shortName': '71', 'longName': '71st South Shore', 'mode': 'BUS', 'agencyName': 'Chicago Transit Authority'}, {'id': '1:74', 'shortName': '74', 'longName': 'Fullerton', 'mode': 'BUS', 'agencyName': 'Chicago Transit Authority'}, {'id': '1:73', 'shortName': '73', 'longName': 'Armitage', 'mode': 'BUS', 'agencyName': 'Chicago Transit Authority'}, {'id': '1:X49', 'shortName': 'X49', 'longName': 'Western Express', 'mode': 'BUS', 'agencyName': 'Chicago Transit Authority'}, {'id': '1:76', 'shortName': '76', 'longName': 'Diversey', 'mode': 'BUS', 'agencyName': 'Chicago Transit Authority'}, {'id': '1:75', 'shortName': '75', 'longName': '74th-75th', 'mode': 'BUS', 'agencyName': 'Chicago Transit Authority'}, {'id': '1:67', 'shortName': '67', 'longName': '67th-69th-71st', 'mode': 'BUS', 'agencyName': 'Chicago Transit Authority'}, {'id': '1:66', 'shortName': '66', 'longName': 'Chicago', 'mode': 'BUS', 'agencyName': 'Chicago Transit Authority'}, {'id': '1:68', 'shortName': '68', 'longName': 'Northwest Highway', 'mode': 'BUS', 'agencyName': 'Chicago Transit Authority'}, {'id': '1:Org', 'longName': 'Orange Line', 'mode': 'SUBWAY', 'color': 'F9461C', 'agencyName': 'Chicago Transit Authority'}, {'id': '1:171', 'shortName': '171', 'longName': 'U. of Chicago/Hyde Park', 'mode': 'BUS', 'agencyName': 'Chicago Transit Authority'}, {'id': '1:172', 'shortName': '172', 'longName': 'U. of Chicago/Kenwood', 'mode': 'BUS', 'agencyName': 'Chicago Transit Authority'}, {'id': '1:63W', 'shortName': '63W', 'longName': 'West 63rd', 'mode': 'BUS', 'agencyName': 'Chicago Transit Authority'}, {'id': '1:90', 'shortName': '90', 'longName': 'Harlem', 'mode': 'BUS', 'agencyName': 'Chicago Transit Authority'}, {'id': '1:92', 'shortName': '92', 'longName': 'Foster', 'mode': 'BUS', 'agencyName': 'Chicago Transit Authority'}, {'id': '1:91', 'shortName': '91', 'longName': 'Austin', 'mode': 'BUS', 'agencyName': 'Chicago Transit Authority'}, {'id': '1:94', 'shortName': '94', 'longName': 'South California', 'mode': 'BUS', 'agencyName': 'Chicago Transit Authority'}, {'id': '1:93', 'shortName': '93', 'longName': 'California/Dodge', 'mode': 'BUS', 'agencyName': 'Chicago Transit Authority'}, {'id': '1:96', 'shortName': '96', 'longName': 'Lunt', 'mode': 'BUS', 'agencyName': 'Chicago Transit Authority'}, {'id': '1:95', 'shortName': '95', 'longName': '95th', 'mode': 'BUS', 'agencyName': 'Chicago Transit Authority'}, {'id': '1:97', 'shortName': '97', 'longName': 'Skokie', 'mode': 'BUS', 'agencyName': 'Chicago Transit Authority'}, {'id': '1:88', 'shortName': '88', 'longName': 'Higgins', 'mode': 'BUS', 'agencyName': 'Chicago Transit Authority'}, {'id': '1:8A', 'shortName': '8A', 'longName': 'South Halsted', 'mode': 'BUS', 'agencyName': 'Chicago Transit Authority'}, {'id': '1:192', 'shortName': '192', 'longName': 'University of Chicago Hosp. Exp.', 'mode': 'BUS', 'agencyName': 'Chicago Transit Authority'}, {'id': '1:62H', 'shortName': '62H', 'longName': 'Archer/Harlem', 'mode': 'BUS', 'agencyName': 'Chicago Transit Authority'}, {'id': '1:X98', 'shortName': 'X98', 'longName': 'Avon Express', 'mode': 'BUS', 'agencyName': 'Chicago Transit Authority'}, {'id': '1:53A', 'shortName': '53A', 'longName': 'South Pulaski', 'mode': 'BUS', 'agencyName': 'Chicago Transit Authority'}, {'id': '1:52A', 'shortName': '52A', 'longName': 'South Kedzie', 'mode': 'BUS', 'agencyName': 'Chicago Transit Authority'}, {'id': '1:Pink', 'longName': 'Pink Line', 'mode': 'SUBWAY', 'color': 'E27EA6', 'agencyName': 'Chicago Transit Authority'}, {'id': '1:201', 'shortName': '201', 'longName': 'Central/Ridge', 'mode': 'BUS', 'agencyName': 'Chicago Transit Authority'}, {'id': '1:205', 'shortName': '205', 'longName': 'Chicago/Golf', 'mode': 'BUS', 'agencyName': 'Chicago Transit Authority'}, {'id': '1:206', 'shortName': '206', 'longName': 'Evanston Circulator', 'mode': 'BUS', 'agencyName': 'Chicago Transit Authority'}, {'id': '1:55A', 'shortName': '55A', 'longName': '55th/Austin', 'mode': 'BUS', 'agencyName': 'Chicago Transit Authority'}, {'id': '1:55N', 'shortName': '55N', 'longName': '55th/Narragansett', 'mode': 'BUS', 'agencyName': 'Chicago Transit Authority'}, {'id': '1:54B', 'shortName': '54B', 'longName': 'South Cicero', 'mode': 'BUS', 'agencyName': 'Chicago Transit Authority'}, {'id': '1:54A', 'shortName': '54A', 'longName': 'North Cicero/Skokie Blvd.', 'mode': 'BUS', 'agencyName': 'Chicago Transit Authority'}, {'id': '1:100', 'shortName': '100', 'longName': 'Jeffery Manor Express', 'mode': 'BUS', 'agencyName': 'Chicago Transit Authority'}, {'id': '1:103', 'shortName': '103', 'longName': 'West 103rd', 'mode': 'BUS', 'agencyName': 'Chicago Transit Authority'}, {'id': '1:106', 'shortName': '106', 'longName': 'East 103rd', 'mode': 'BUS', 'agencyName': 'Chicago Transit Authority'}, {'id': '1:108', 'shortName': '108', 'longName': 'Halsted/95th', 'mode': 'BUS', 'agencyName': 'Chicago Transit Authority'}, {'id': '1:Brn', 'longName': 'Brown Line', 'mode': 'SUBWAY', 'color': '62361B', 'agencyName': 'Chicago Transit Authority'}, {'id': '1:J14', 'shortName': 'J14', 'longName': 'Jeffery Jump', 'mode': 'BUS', 'agencyName': 'Chicago Transit Authority'}]\n"
     ]
    }
   ],
   "source": [
    "# Using agency 'METRA' from first feed\n",
    "routes = json.loads(requests.get('{0}index/agencies/{1}/{2}/routes'.format(base_url, '1', '1')).text)\n",
    "print(routes)"
   ]
  },
  {
   "cell_type": "code",
   "execution_count": 16,
   "metadata": {
    "collapsed": false
   },
   "outputs": [
    {
     "name": "stdout",
     "output_type": "stream",
     "text": [
      "<class 'list'>\n",
      "<class 'dict'>\n",
      "<class 'dict'>\n",
      "<class 'dict'>\n"
     ]
    }
   ],
   "source": [
    "# Routes is a list - a data structure we are familiar with:\n",
    "print(type(routes))\n",
    "\n",
    "# However, the objects that makes up this list may be new to you, the python dictionary:\n",
    "print(type(routes[0]))\n",
    "print(type(routes[1]))\n",
    "print(type(routes[2]))"
   ]
  },
  {
   "cell_type": "markdown",
   "metadata": {},
   "source": [
    "## Python Dictionary\n",
    "\n",
    "- Back to the [Table of Contents](#Table-of-Contents)\n",
    "\n",
    "The [dictionary](https://docs.python.org/3/tutorial/datastructures.html#dictionaries), or dict for short, is a common type of python object used to store sets of key-value pairs. Sound familiar? It should! Dictionaries are python's internal counterpart to JSON data.\n",
    "\n",
    "Here, we'll learn to grab data from within a dict by using the key name, following this syntax: `dict['key']`"
   ]
  },
  {
   "cell_type": "code",
   "execution_count": 17,
   "metadata": {
    "collapsed": false
   },
   "outputs": [
    {
     "name": "stdout",
     "output_type": "stream",
     "text": [
      "{'id': '1:3', 'shortName': '3', 'longName': 'King Drive', 'mode': 'BUS', 'agencyName': 'Chicago Transit Authority'}\n",
      "------\n",
      "Chicago Transit Authority\n",
      "------\n",
      "BUS\n"
     ]
    }
   ],
   "source": [
    "test_route = routes[3]\n",
    "print(test_route)\n",
    "print('------')\n",
    "print(test_route['agencyName'])\n",
    "print('------')\n",
    "print(test_route['mode'])"
   ]
  },
  {
   "cell_type": "code",
   "execution_count": 18,
   "metadata": {
    "collapsed": false
   },
   "outputs": [
    {
     "name": "stdout",
     "output_type": "stream",
     "text": [
      "mode: BUS | id: 1:1 | route name: Bronzeville/Union Station\n",
      "mode: BUS | id: 1:121 | route name: Union/Wacker Express\n",
      "mode: BUS | id: 1:124 | route name: Navy Pier\n",
      "mode: BUS | id: 1:3 | route name: King Drive\n",
      "mode: BUS | id: 1:2 | route name: Hyde Park Express\n",
      "mode: BUS | id: 1:126 | route name: Jackson\n",
      "mode: BUS | id: 1:5 | route name: South Shore Night Bus\n",
      "mode: BUS | id: 1:4 | route name: Cottage Grove\n",
      "mode: BUS | id: 1:125 | route name: Water Tower Express\n",
      "mode: BUS | id: 1:7 | route name: Harrison\n",
      "mode: BUS | id: 1:6 | route name: Jackson Park Express\n",
      "mode: BUS | id: 1:9 | route name: Ashland\n",
      "mode: BUS | id: 1:8 | route name: Halsted\n",
      "mode: BUS | id: 1:21 | route name: Cermak\n",
      "mode: BUS | id: 1:20 | route name: Madison\n",
      "mode: BUS | id: 1:12 | route name: Roosevelt\n",
      "mode: BUS | id: 1:11 | route name: Lincoln\n",
      "mode: BUS | id: 1:15 | route name: Jeffery Local\n",
      "mode: BUS | id: 1:18 | route name: 16th-18th\n",
      "mode: BUS | id: 1:19 | route name: United Center Express\n",
      "mode: BUS | id: 1:120 | route name: Ogilvie/Wacker Express\n",
      "mode: BUS | id: 1:111 | route name: 111th/King Drive\n",
      "mode: BUS | id: 1:112 | route name: Vincennes/111th\n",
      "mode: BUS | id: 1:115 | route name: Pullman/115th\n",
      "mode: BUS | id: 1:119 | route name: Michigan/119th\n",
      "mode: SUBWAY | id: 1:Red | route name: Red Line\n",
      "mode: BUS | id: 1:143 | route name: Stockton/Michigan Express\n",
      "mode: BUS | id: 1:146 | route name: Inner Drive/Michigan Express\n",
      "mode: BUS | id: 1:148 | route name: Clarendon Michigan Express\n",
      "mode: BUS | id: 1:147 | route name: Outer Drive Express\n",
      "mode: BUS | id: 1:43 | route name: 43rd\n",
      "mode: BUS | id: 1:81W | route name: West Lawrence\n",
      "mode: BUS | id: 1:34 | route name: South Michigan\n",
      "mode: BUS | id: 1:36 | route name: Broadway\n",
      "mode: BUS | id: 1:35 | route name: 35th\n",
      "mode: SUBWAY | id: 1:Blue | route name: Blue Line\n",
      "mode: BUS | id: 1:37 | route name: Sedgwick\n",
      "mode: BUS | id: 1:39 | route name: Pershing\n",
      "mode: SUBWAY | id: 1:P | route name: Purple Line\n",
      "mode: BUS | id: 1:132 | route name: Goose Island Express\n",
      "mode: BUS | id: 1:135 | route name: Clarendon/LaSalle Express\n",
      "mode: BUS | id: 1:134 | route name: Stockton/LaSalle Express\n",
      "mode: BUS | id: 1:136 | route name: Sheridan/LaSalle Express\n",
      "mode: SUBWAY | id: 1:Y | route name: Yellow Line\n",
      "mode: BUS | id: 1:49B | route name: North Western\n",
      "mode: BUS | id: 1:30 | route name: South Chicago\n",
      "mode: BUS | id: 1:31 | route name: 31st\n",
      "mode: BUS | id: 1:22 | route name: Clark\n",
      "mode: BUS | id: 1:24 | route name: Wentworth\n",
      "mode: BUS | id: 1:26 | route name: South Shore Express\n",
      "mode: BUS | id: 1:111A | route name: Pullman Shuttle\n",
      "mode: BUS | id: 1:29 | route name: State\n",
      "mode: SUBWAY | id: 1:G | route name: Green Line\n",
      "mode: BUS | id: 1:28 | route name: Stony Island\n",
      "mode: BUS | id: 1:130 | route name: Museum Campus\n",
      "mode: BUS | id: 1:165 | route name: West 65th\n",
      "mode: BUS | id: 1:169 | route name: 69th-UPS Express\n",
      "mode: BUS | id: 1:60 | route name: Blue Island/26th\n",
      "mode: BUS | id: 1:63 | route name: 63rd\n",
      "mode: BUS | id: 1:62 | route name: Archer\n",
      "mode: BUS | id: 1:65 | route name: Grand\n",
      "mode: BUS | id: 1:56 | route name: Milwaukee\n",
      "mode: BUS | id: 1:55 | route name: Garfield\n",
      "mode: BUS | id: 1:57 | route name: Laramie\n",
      "mode: BUS | id: 1:59 | route name: 59th/61st\n",
      "mode: BUS | id: 1:155 | route name: Devon\n",
      "mode: BUS | id: 1:157 | route name: Streeterville/Taylor\n",
      "mode: BUS | id: 1:156 | route name: LaSalle\n",
      "mode: BUS | id: 1:50 | route name: Damen\n",
      "mode: BUS | id: 1:52 | route name: Kedzie/California\n",
      "mode: BUS | id: 1:51 | route name: 51st\n",
      "mode: BUS | id: 1:54 | route name: Cicero\n",
      "mode: BUS | id: 1:53 | route name: Pulaski\n",
      "mode: BUS | id: 1:44 | route name: Wallace-Racine\n",
      "mode: BUS | id: 1:47 | route name: 47th\n",
      "mode: BUS | id: 1:49 | route name: Western\n",
      "mode: BUS | id: 1:48 | route name: South Damen\n",
      "mode: BUS | id: 1:151 | route name: Sheridan\n",
      "mode: BUS | id: 1:152 | route name: Addison\n",
      "mode: BUS | id: 1:81 | route name: Lawrence\n",
      "mode: BUS | id: 1:80 | route name: Irving Park\n",
      "mode: BUS | id: 1:82 | route name: Kimball-Homan\n",
      "mode: BUS | id: 1:85 | route name: Central\n",
      "mode: BUS | id: 1:84 | route name: Peterson\n",
      "mode: BUS | id: 1:87 | route name: 87th\n",
      "mode: BUS | id: 1:86 | route name: Narragansett/Ridgeland\n",
      "mode: BUS | id: 1:X9 | route name: Ashland Express\n",
      "mode: BUS | id: 1:78 | route name: Montrose\n",
      "mode: BUS | id: 1:77 | route name: Belmont\n",
      "mode: BUS | id: 1:79 | route name: 79th\n",
      "mode: BUS | id: 1:85A | route name: North Central\n",
      "mode: BUS | id: 1:70 | route name: Division\n",
      "mode: BUS | id: 1:72 | route name: North\n",
      "mode: BUS | id: 1:71 | route name: 71st South Shore\n",
      "mode: BUS | id: 1:74 | route name: Fullerton\n",
      "mode: BUS | id: 1:73 | route name: Armitage\n",
      "mode: BUS | id: 1:X49 | route name: Western Express\n",
      "mode: BUS | id: 1:76 | route name: Diversey\n",
      "mode: BUS | id: 1:75 | route name: 74th-75th\n",
      "mode: BUS | id: 1:67 | route name: 67th-69th-71st\n",
      "mode: BUS | id: 1:66 | route name: Chicago\n",
      "mode: BUS | id: 1:68 | route name: Northwest Highway\n",
      "mode: SUBWAY | id: 1:Org | route name: Orange Line\n",
      "mode: BUS | id: 1:171 | route name: U. of Chicago/Hyde Park\n",
      "mode: BUS | id: 1:172 | route name: U. of Chicago/Kenwood\n",
      "mode: BUS | id: 1:63W | route name: West 63rd\n",
      "mode: BUS | id: 1:90 | route name: Harlem\n",
      "mode: BUS | id: 1:92 | route name: Foster\n",
      "mode: BUS | id: 1:91 | route name: Austin\n",
      "mode: BUS | id: 1:94 | route name: South California\n",
      "mode: BUS | id: 1:93 | route name: California/Dodge\n",
      "mode: BUS | id: 1:96 | route name: Lunt\n",
      "mode: BUS | id: 1:95 | route name: 95th\n",
      "mode: BUS | id: 1:97 | route name: Skokie\n",
      "mode: BUS | id: 1:88 | route name: Higgins\n",
      "mode: BUS | id: 1:8A | route name: South Halsted\n",
      "mode: BUS | id: 1:192 | route name: University of Chicago Hosp. Exp.\n",
      "mode: BUS | id: 1:62H | route name: Archer/Harlem\n",
      "mode: BUS | id: 1:X98 | route name: Avon Express\n",
      "mode: BUS | id: 1:53A | route name: South Pulaski\n",
      "mode: BUS | id: 1:52A | route name: South Kedzie\n",
      "mode: SUBWAY | id: 1:Pink | route name: Pink Line\n",
      "mode: BUS | id: 1:201 | route name: Central/Ridge\n",
      "mode: BUS | id: 1:205 | route name: Chicago/Golf\n",
      "mode: BUS | id: 1:206 | route name: Evanston Circulator\n",
      "mode: BUS | id: 1:55A | route name: 55th/Austin\n",
      "mode: BUS | id: 1:55N | route name: 55th/Narragansett\n",
      "mode: BUS | id: 1:54B | route name: South Cicero\n",
      "mode: BUS | id: 1:54A | route name: North Cicero/Skokie Blvd.\n",
      "mode: BUS | id: 1:100 | route name: Jeffery Manor Express\n",
      "mode: BUS | id: 1:103 | route name: West 103rd\n",
      "mode: BUS | id: 1:106 | route name: East 103rd\n",
      "mode: BUS | id: 1:108 | route name: Halsted/95th\n",
      "mode: SUBWAY | id: 1:Brn | route name: Brown Line\n",
      "mode: BUS | id: 1:J14 | route name: Jeffery Jump\n"
     ]
    }
   ],
   "source": [
    "## Simple enough - let's use a loop and our new understanding of dicts to print out the mode and route name:\n",
    "for route in routes:\n",
    "    print('mode: {} | id: {} | route name: {}'.format(route['mode'], route['id'], route['longName']))"
   ]
  },
  {
   "cell_type": "markdown",
   "metadata": {},
   "source": [
    "## Routing API\n",
    "\n",
    "- Back to the [Table of Contents](#Table-of-Contents)\n",
    "\n",
    "Now that we've tested we can access OTP from Jupyter, let's do something a bit more interesting: get a route plan between some locations. This will allow us to answer \"How long will it take to get from *here* to *there*?\"\n",
    "\n",
    "Similar to the Index API, the [Routing API documentation](http://dev.opentripplanner.org/apidoc/1.0.0/resource_PlannerResource.html) tells us what features are available and how to access those feastures."
   ]
  },
  {
   "cell_type": "markdown",
   "metadata": {},
   "source": [
    "### Planner Resource Syntax\n",
    "\n",
    "- Back to the [Table of Contents](#Table-of-Contents)\n",
    "\n",
    "The Planner Resource API does trip planning based on a large number of customizable parameters. To give you a sense of all the options available, OTP's planner resource allows users to set the additional time it will take baord a vehicle (like a bus) with a bike, as opposed to boarding on foot. There are a lot of available options. This is great for us, since once we understand the simple syntax of this API, we can avail ourselves of this granular customization if we want to. \n",
    "\n",
    "This resource is located at `/OTP/routers/{routerID}/plan` and when setting options within a URL, they follow a single question mark. So first, let's plan a trip with just the required options, `fromPlace`, `toPlace`, and `datae` (which takes an option in the form YYY-MM-DD) which you can see we set after `/plan?` and separated by ampersands `&`:"
   ]
  },
  {
   "cell_type": "code",
   "execution_count": 19,
   "metadata": {
    "collapsed": false
   },
   "outputs": [
    {
     "data": {
      "text/plain": [
       "(27, 6)"
      ]
     },
     "execution_count": 19,
     "metadata": {},
     "output_type": "execute_result"
    }
   ],
   "source": [
    "centers_lim.shape"
   ]
  },
  {
   "cell_type": "code",
   "execution_count": 21,
   "metadata": {
    "collapsed": false,
    "scrolled": false
   },
   "outputs": [
    {
     "name": "stdout",
     "output_type": "stream",
     "text": [
      "http://localhost:8080/otp/routers/default/plan?fromPlace=41.96311740000001,-87.6748518&toPlace=41.8457521,-87.6858569\n",
      "{'requestParameters': {'fromPlace': '41.96311740000001,-87.6748518', 'toPlace': '41.8457521,-87.6858569'}, 'plan': {'date': 1511885060000, 'from': {'name': 'Origin', 'lon': -87.6748518, 'lat': 41.96311740000001, 'orig': '', 'vertexType': 'NORMAL'}, 'to': {'name': 'Destination', 'lon': -87.6858569, 'lat': 41.8457521, 'orig': '', 'vertexType': 'NORMAL'}, 'itineraries': [{'duration': 3715, 'startTime': 1511885100000, 'endTime': 1511888815000, 'walkTime': 314, 'transitTime': 3080, 'waitingTime': 321, 'walkDistance': 400.5272932309113, 'walkLimitExceeded': False, 'elevationLost': 0.0, 'elevationGained': 0.0, 'transfers': 1, 'legs': [{'startTime': 1511885100000, 'endTime': 1511885279000, 'departureDelay': 0, 'arrivalDelay': 0, 'realTime': False, 'distance': 231.862, 'pathway': False, 'mode': 'WALK', 'route': '', 'agencyTimeZoneOffset': -21600000, 'interlineWithPreviousLeg': False, 'from': {'name': 'Origin', 'lon': -87.6748518, 'lat': 41.96311740000001, 'departure': 1511885100000, 'orig': '', 'vertexType': 'NORMAL'}, 'to': {'name': 'Montrose Brown Line Station', 'stopId': '1:11373', 'stopCode': '11373', 'lon': -87.67515475, 'lat': 41.96155781, 'arrival': 1511885279000, 'departure': 1511885280000, 'stopIndex': 15, 'stopSequence': 16, 'vertexType': 'TRANSIT'}, 'legGeometry': {'points': 'o|b_G`}bvO`II@xB?D', 'length': 4}, 'rentedBike': False, 'duration': 179.0, 'transitLeg': False, 'steps': [{'distance': 178.719, 'relativeDirection': 'DEPART', 'streetName': 'North Ravenswood Avenue', 'absoluteDirection': 'SOUTH', 'stayOn': False, 'area': False, 'bogusName': False, 'lon': -87.67456332280878, 'lat': 41.96312259388578, 'elevation': []}, {'distance': 53.143, 'relativeDirection': 'RIGHT', 'streetName': 'West Montrose Avenue', 'absoluteDirection': 'WEST', 'stayOn': False, 'area': False, 'bogusName': False, 'lon': -87.67451100000001, 'lat': 41.9615158, 'elevation': []}]}, {'startTime': 1511885280000, 'endTime': 1511885580000, 'departureDelay': 0, 'arrivalDelay': 0, 'realTime': False, 'distance': 1103.7936588295343, 'pathway': False, 'mode': 'BUS', 'route': '78', 'agencyName': 'Chicago Transit Authority', 'agencyUrl': 'http://transitchicago.com', 'agencyTimeZoneOffset': -21600000, 'routeType': 3, 'routeId': '1:78', 'interlineWithPreviousLeg': False, 'tripBlockId': '484000003932', 'headsign': 'Harlem', 'agencyId': '1', 'tripId': '1:484119864999', 'serviceDate': '20171128', 'from': {'name': 'Montrose Brown Line Station', 'stopId': '1:11373', 'stopCode': '11373', 'lon': -87.67515475, 'lat': 41.96155781, 'arrival': 1511885279000, 'departure': 1511885280000, 'stopIndex': 15, 'stopSequence': 16, 'vertexType': 'TRANSIT'}, 'to': {'name': 'Montrose & Western', 'stopId': '1:11379', 'stopCode': '11379', 'lon': -87.68850147, 'lat': 41.96138618, 'arrival': 1511885580000, 'departure': 1511885580000, 'stopIndex': 21, 'stopSequence': 22, 'vertexType': 'TRANSIT'}, 'legGeometry': {'points': 'orb_G~_cvO?n@?d@?h@?h@@t@?f@?l@?`@An@A`@Dh@?rJ?HJrPAl@Bp@?r@?n@@f@Ar@Af@?b@@`@?h@@p@?r@?`A?z@@|@?f@?b@Cd@@j@@j@@|@@p@?x@?l@?l@Aj@C^', 'length': 42}, 'routeShortName': '78', 'routeLongName': 'Montrose', 'rentedBike': False, 'duration': 300.0, 'transitLeg': True, 'steps': []}, {'startTime': 1511885580000, 'endTime': 1511885603000, 'departureDelay': 0, 'arrivalDelay': 0, 'realTime': False, 'distance': 27.035, 'pathway': False, 'mode': 'WALK', 'route': '', 'agencyTimeZoneOffset': -21600000, 'interlineWithPreviousLeg': False, 'from': {'name': 'Montrose & Western', 'stopId': '1:11379', 'stopCode': '11379', 'lon': -87.68850147, 'lat': 41.96138618, 'arrival': 1511885580000, 'departure': 1511885580000, 'stopIndex': 21, 'stopSequence': 22, 'vertexType': 'TRANSIT'}, 'to': {'name': 'Western & Montrose', 'stopId': '1:8187', 'stopCode': '8187', 'lon': -87.68882368, 'lat': 41.96141941, 'arrival': 1511885603000, 'departure': 1511885922000, 'stopIndex': 8, 'stopSequence': 9, 'vertexType': 'TRANSIT'}, 'legGeometry': {'points': '{qb_GptevOTVU?', 'length': 3}, 'rentedBike': False, 'duration': 23.0, 'transitLeg': False, 'steps': [{'distance': 15.57, 'relativeDirection': 'DEPART', 'streetName': 'path', 'absoluteDirection': 'SOUTHWEST', 'stayOn': False, 'area': False, 'bogusName': True, 'lon': -87.68856346043509, 'lat': 41.96142551633532, 'elevation': []}, {'distance': 11.465, 'relativeDirection': 'HARD_RIGHT', 'streetName': 'North Western Avenue', 'absoluteDirection': 'NORTH', 'stayOn': False, 'area': False, 'bogusName': False, 'lon': -87.68868570000001, 'lat': 41.961319, 'elevation': []}]}, {'startTime': 1511885922000, 'endTime': 1511888702000, 'departureDelay': 0, 'arrivalDelay': 0, 'realTime': False, 'distance': 12958.509816029906, 'pathway': False, 'mode': 'BUS', 'route': '49', 'agencyName': 'Chicago Transit Authority', 'agencyUrl': 'http://transitchicago.com', 'agencyTimeZoneOffset': -21600000, 'routeType': 3, 'routeId': '1:49', 'interlineWithPreviousLeg': False, 'tripBlockId': '484000003607', 'headsign': '79th', 'agencyId': '1', 'tripId': '1:484119719629', 'serviceDate': '20171128', 'from': {'name': 'Western & Montrose', 'stopId': '1:8187', 'stopCode': '8187', 'lon': -87.68882368, 'lat': 41.96141941, 'arrival': 1511885603000, 'departure': 1511885922000, 'stopIndex': 8, 'stopSequence': 9, 'vertexType': 'TRANSIT'}, 'to': {'name': 'Western & 26th Street', 'stopId': '1:8257', 'stopCode': '8257', 'lon': -87.68559876, 'lat': 41.84490973, 'arrival': 1511888702000, 'departure': 1511888703000, 'stopIndex': 54, 'stopSequence': 55, 'vertexType': 'TRANSIT'}, 'legGeometry': {'points': '{qb_G|uevOd@BRENCTAT?T?T?RAT?T?T?TAT?T?TAT?TAT?T?TAT?TAT?T?TAT?T?TAT?TAJ?LBT?D?\\\\Ad@G\\\\?^?`@?^?`@?`@?\\\\?`@?^?X?@?F?j@Ef@Ad@?j@Cj@?j@?j@?f@Cb@A^?\\\\CZ?NBNAT?TAT?TAT?T?TAT?T?HAT?T?T?TAT?T?T?TAT?T?T?TAT?T?T?TAT?T?DAH@R@R?IAjVOl@AD?TATAT?TAT?TAT?TAT?TAT?TAT?TAR?T?TAT?T?TAT?TAT?T?T?T?H?T?T?T@TAT?T?T?T?TAT?T?T?T?T?T?FAT?T?TAT?X?TAT?T?T?TAT?T?T?TAT?T?T?R?TAF?T?V?T@R?T?T@T?T?T?T@T?T?T@T?N?PATEFATELATAT?H?T?TAT?F?TAT?R?T?TAT?T?T?TAT?T?TAT?T?TAT?T?TAT?T?TAD?T?TAT?T?HAT?T?T?TAT?T?T?T?R?TAT?H?T?T?TAT?TAT?T?RAVDN?{@EdIOd@BdFCRBPCTAPAT?J?P?VATAT?TAN?T?L?X?TATAT?JAT?T?JATATAVAT?T?TAT?L?RAT?T?T?TAL?N@VBTAF?BE\\\\Cb@?f@Al@Cl@Bf@?`@?P?V@^?\\\\?b@Ab@Cb@Cd@?^?ZA\\\\@F?h@GRAV?T?TAT?T?T?TAT?T?T?R?TAT?TAT?T?NAT?T?TAT?T?TAF?TAT?TAT?T?TAT?TAH?LFR@RBRARENGT?T?T?T?T?T?TAV?T?TAT?TAL?NDP?^If@Bd@?d@Ch@?d@?\\\\?\\\\E^?^C^?b@B\\\\?\\\\?F?ECT?T?TAT?V?TAT?T?T?TAT?T?TAT?TAT?R?TAT?T?TAT?T?T?TAT?T?TAP?T?XBNEzHGr@@T?TAD?RAJAT?LAT?N?T?H?T?H?R?H?TAT?TATAT?T?T?RAT?T?T?TAT?T?T?TAT?T?T?TAT?T?T?TAT?T?T?TAT?T?FATBF@T?P@TGd@?`@A`@?d@?f@Cf@?f@?`@Ad@DR?\\\\Q`KKb@@lII@?TJjGK`@?vKMM?T?T?X?R?TAT?T?T?TAT?T?T?TAT?T?T?TAR?T?TAT?TAT?T?RAJFRDR?b@E\\\\Ab@?d@?f@Gd@?`@FX?^?f@ITCVATCRCT?T?T?V?TBRBT?T?D?T?T?J?TEVCT?L?T?H?Z?TATATAF?TCRCX?T?H?ZAT?H?T?D?T?H?T?N?T?J?T?L?T?N?X?H?V?d@Ed@?\\\\?Z?d@Cj@?\\\\A`@?`@@Z?b@?L?j@D`@?b@Ab@?Z?^?ZCZ?B?TCTCDATAT?T?TAT?T?T?TAT?T?T?TAT?T?T?T?T?T?TAT?V?R?T?T?T?T?T?T?T?P?T?D?T?T?TAT?T?T?TAT?T?T?TAR?T?TAT?T?R?T@L?j@Eh@Er@?r@En@?b@?P??@tOSX?tIEl@CTAT?T?TAT?T?T?TAT?T?T?TAT?TAR?TAT?T?TAT?RDT@J?T@P?NANETETAT?TAT?TAT?TAR?TAT?T?TAT?TAT?TAT?R?R?J?TANAT?T?T?X?T?R?V?TAJATAFAb@Df@?\\\\A^?b@C`@?\\\\?\\\\?X?f@A\\\\?b@?d@Cf@Aj@?j@?f@?j@?^?\\\\?V?T?T?L?TANAT?L?T?D?T?F?T?T@T@F?T?L?T?F?T@H?TAH?T?D?T?F??CT?TETEJAR?T?T?TAF?T?T?TAT?T?TAT?TAT?T?XANBX?\\\\E\\\\?\\\\?h@A^?b@Cd@Cb@?b@?ZA`@@`@?\\\\?^?Z?`@AH?PJPGRET?T?TAT?T?TAT?T?VAT?TAT?TAT?T?TAT?T?FAR?T?T?T?T?N?TAFAJCPAP@T@T?T?T?TAT?TAP?T?T?TAT?T?T?T?TAT?T?T?T?H?T?TAT?T?T?TAT?T?T?T?VAT?T?T?F?', 'length': 872}, 'routeShortName': '49', 'routeLongName': 'Western', 'rentedBike': False, 'duration': 2780.0, 'transitLeg': True, 'steps': []}, {'startTime': 1511888703000, 'endTime': 1511888815000, 'departureDelay': 0, 'arrivalDelay': 0, 'realTime': False, 'distance': 141.563, 'pathway': False, 'mode': 'WALK', 'route': '', 'agencyTimeZoneOffset': -21600000, 'interlineWithPreviousLeg': False, 'from': {'name': 'Western & 26th Street', 'stopId': '1:8257', 'stopCode': '8257', 'lon': -87.68559876, 'lat': 41.84490973, 'arrival': 1511888702000, 'departure': 1511888703000, 'stopIndex': 54, 'stopSequence': 55, 'vertexType': 'TRANSIT'}, 'to': {'name': 'Destination', 'lon': -87.6858569, 'lat': 41.8457521, 'arrival': 1511888815000, 'orig': '', 'vertexType': 'NORMAL'}, 'legGeometry': {'points': 'eyk~F~aevO@|AwDD', 'length': 3}, 'rentedBike': False, 'duration': 112.0, 'transitLeg': False, 'steps': [{'distance': 38.941, 'relativeDirection': 'DEPART', 'streetName': 'West 26th Street', 'absoluteDirection': 'WEST', 'stayOn': False, 'area': False, 'bogusName': False, 'lon': -87.68559633424746, 'lat': 41.84483361152588, 'elevation': []}, {'distance': 102.622, 'relativeDirection': 'RIGHT', 'streetName': 'service road', 'absoluteDirection': 'NORTH', 'stayOn': False, 'area': False, 'bogusName': False, 'lon': -87.68606630000001, 'lat': 41.844825300000004, 'elevation': []}]}], 'tooSloped': False}, {'duration': 3870, 'startTime': 1511885425000, 'endTime': 1511889295000, 'walkTime': 1057, 'transitTime': 2811, 'waitingTime': 2, 'walkDistance': 1360.7926466130357, 'walkLimitExceeded': False, 'elevationLost': 0.0, 'elevationGained': 0.0, 'transfers': 0, 'legs': [{'startTime': 1511885425000, 'endTime': 1511886370000, 'departureDelay': 0, 'arrivalDelay': 0, 'realTime': False, 'distance': 1219.121, 'pathway': False, 'mode': 'WALK', 'route': '', 'agencyTimeZoneOffset': -21600000, 'interlineWithPreviousLeg': False, 'from': {'name': 'Origin', 'lon': -87.6748518, 'lat': 41.96311740000001, 'departure': 1511885425000, 'orig': '', 'vertexType': 'NORMAL'}, 'to': {'name': 'Western & Sunnyside', 'stopId': '1:17607', 'stopCode': '17607', 'lon': -87.68886244, 'lat': 41.96295285, 'arrival': 1511886370000, 'departure': 1511886371000, 'stopIndex': 7, 'stopSequence': 8, 'vertexType': 'TRANSIT'}, 'legGeometry': {'points': 'o|b_G`}bvOk@@@nC@tC@tCBtC?rCBpC@dD@zC@dD@`DDfH?\\\\?\\\\?nA?rBBnC?xA?VB`C?|A?T@tB?zBf@A', 'length': 26}, 'rentedBike': False, 'duration': 945.0, 'transitLeg': False, 'steps': [{'distance': 24.515, 'relativeDirection': 'DEPART', 'streetName': 'North Ravenswood Avenue', 'absoluteDirection': 'NORTH', 'stayOn': False, 'area': False, 'bogusName': False, 'lon': -87.67456332280878, 'lat': 41.96312259388578, 'elevation': []}, {'distance': 1172.6930000000002, 'relativeDirection': 'LEFT', 'streetName': 'West Sunnyside Avenue', 'absoluteDirection': 'WEST', 'stayOn': False, 'area': False, 'bogusName': False, 'lon': -87.6745705, 'lat': 41.963343, 'elevation': []}, {'distance': 21.913, 'relativeDirection': 'LEFT', 'streetName': 'North Western Avenue', 'absoluteDirection': 'SOUTH', 'stayOn': False, 'area': False, 'bogusName': False, 'lon': -87.6887512, 'lat': 41.9631522, 'elevation': []}]}, {'startTime': 1511886371000, 'endTime': 1511889182000, 'departureDelay': 0, 'arrivalDelay': 0, 'realTime': False, 'distance': 13129.050946835754, 'pathway': False, 'mode': 'BUS', 'route': '49', 'agencyName': 'Chicago Transit Authority', 'agencyUrl': 'http://transitchicago.com', 'agencyTimeZoneOffset': -21600000, 'routeType': 3, 'routeId': '1:49', 'interlineWithPreviousLeg': False, 'tripBlockId': '484000001312', 'headsign': '79th', 'agencyId': '1', 'tripId': '1:484119304907', 'serviceDate': '20171128', 'from': {'name': 'Western & Sunnyside', 'stopId': '1:17607', 'stopCode': '17607', 'lon': -87.68886244, 'lat': 41.96295285, 'arrival': 1511886370000, 'departure': 1511886371000, 'stopIndex': 7, 'stopSequence': 8, 'vertexType': 'TRANSIT'}, 'to': {'name': 'Western & 26th Street', 'stopId': '1:8257', 'stopCode': '8257', 'lon': -87.68559876, 'lat': 41.84490973, 'arrival': 1511889182000, 'departure': 1511889183000, 'stopIndex': 54, 'stopSequence': 55, 'vertexType': 'TRANSIT'}, 'legGeometry': {'points': 's{b_GdvevOH?lHGd@BRENCTAT?T?T?RAT?T?T?TAT?T?TAT?TAT?T?TAT?TAT?T?TAT?T?TAT?TAJ?LBT?D?\\\\Ad@G\\\\?^?`@?^?`@?`@?\\\\?`@?^?X?@?F?j@Ef@Ad@?j@Cj@?j@?j@?f@Cb@A^?\\\\CZ?NBNAT?TAT?TAT?T?TAT?T?HAT?T?T?TAT?T?T?TAT?T?T?TAT?T?T?TAT?T?DAH@R@R?IAjVOl@AD?TATAT?TAT?TAT?TAT?TAT?TAT?TAR?T?TAT?T?TAT?TAT?T?T?T?H?T?T?T@TAT?T?T?T?TAT?T?T?T?T?T?FAT?T?TAT?X?TAT?T?T?TAT?T?T?TAT?T?T?R?TAF?T?V?T@R?T?T@T?T?T?T@T?T?T@T?N?PATEFATELATAT?H?T?TAT?F?TAT?R?T?TAT?T?T?TAT?T?TAT?T?TAT?T?TAT?T?TAD?T?TAT?T?HAT?T?T?TAT?T?T?T?R?TAT?H?T?T?TAT?TAT?T?RAVDN?{@EdIOd@BdFCRBPCTAPAT?J?P?VATAT?TAN?T?L?X?TATAT?JAT?T?JATATAVAT?T?TAT?L?RAT?T?T?TAL?N@VBTAF?BE\\\\Cb@?f@Al@Cl@Bf@?`@?P?V@^?\\\\?b@Ab@Cb@Cd@?^?ZA\\\\@F?h@GRAV?T?TAT?T?T?TAT?T?T?R?TAT?TAT?T?NAT?T?TAT?T?TAF?TAT?TAT?T?TAT?TAH?LFR@RBRARENGT?T?T?T?T?T?TAV?T?TAT?TAL?NDP?^If@Bd@?d@Ch@?d@?\\\\?\\\\E^?^C^?b@B\\\\?\\\\?F?ECT?T?TAT?V?TAT?T?T?TAT?T?TAT?TAT?R?TAT?T?TAT?T?T?TAT?T?TAP?T?XBNEzHGr@@T?TAD?RAJAT?LAT?N?T?H?T?H?R?H?TAT?TATAT?T?T?RAT?T?T?TAT?T?T?TAT?T?T?TAT?T?T?TAT?T?T?TAT?T?FATBF@T?P@TGd@?`@A`@?d@?f@Cf@?f@?`@Ad@DR?\\\\Q`KKb@@lII@?TJjGK`@?vKMM?T?T?X?R?TAT?T?T?TAT?T?T?TAT?T?T?TAR?T?TAT?TAT?T?RAJFRDR?b@E\\\\Ab@?d@?f@Gd@?`@FX?^?f@ITCVATCRCT?T?T?V?TBRBT?T?D?T?T?J?TEVCT?L?T?H?Z?TATATAF?TCRCX?T?H?ZAT?H?T?D?T?H?T?N?T?J?T?L?T?N?X?H?V?d@Ed@?\\\\?Z?d@Cj@?\\\\A`@?`@@Z?b@?L?j@D`@?b@Ab@?Z?^?ZCZ?B?TCTCDATAT?T?TAT?T?T?TAT?T?T?TAT?T?T?T?T?T?TAT?V?R?T?T?T?T?T?T?T?P?T?D?T?T?TAT?T?T?TAT?T?T?TAR?T?TAT?T?R?T@L?j@Eh@Er@?r@En@?b@?P??@tOSX?tIEl@CTAT?T?TAT?T?T?TAT?T?T?TAT?TAR?TAT?T?TAT?RDT@J?T@P?NANETETAT?TAT?TAT?TAR?TAT?T?TAT?TAT?TAT?R?R?J?TANAT?T?T?X?T?R?V?TAJATAFAb@Df@?\\\\A^?b@C`@?\\\\?\\\\?X?f@A\\\\?b@?d@Cf@Aj@?j@?f@?j@?^?\\\\?V?T?T?L?TANAT?L?T?D?T?F?T?T@T@F?T?L?T?F?T@H?TAH?T?D?T?F??CT?TETEJAR?T?T?TAF?T?T?TAT?T?TAT?TAT?T?XANBX?\\\\E\\\\?\\\\?h@A^?b@Cd@Cb@?b@?ZA`@@`@?\\\\?^?Z?`@AH?PJPGRET?T?TAT?T?TAT?T?VAT?TAT?TAT?T?TAT?T?FAR?T?T?T?T?N?TAFAJCPAP@T@T?T?T?TAT?TAP?T?T?TAT?T?T?T?TAT?T?T?T?H?T?TAT?T?T?TAT?T?T?T?VAT?T?T?F?', 'length': 874}, 'routeShortName': '49', 'routeLongName': 'Western', 'rentedBike': False, 'duration': 2811.0, 'transitLeg': True, 'steps': []}, {'startTime': 1511889183000, 'endTime': 1511889295000, 'departureDelay': 0, 'arrivalDelay': 0, 'realTime': False, 'distance': 141.563, 'pathway': False, 'mode': 'WALK', 'route': '', 'agencyTimeZoneOffset': -21600000, 'interlineWithPreviousLeg': False, 'from': {'name': 'Western & 26th Street', 'stopId': '1:8257', 'stopCode': '8257', 'lon': -87.68559876, 'lat': 41.84490973, 'arrival': 1511889182000, 'departure': 1511889183000, 'stopIndex': 54, 'stopSequence': 55, 'vertexType': 'TRANSIT'}, 'to': {'name': 'Destination', 'lon': -87.6858569, 'lat': 41.8457521, 'arrival': 1511889295000, 'orig': '', 'vertexType': 'NORMAL'}, 'legGeometry': {'points': 'eyk~F~aevO@|AwDD', 'length': 3}, 'rentedBike': False, 'duration': 112.0, 'transitLeg': False, 'steps': [{'distance': 38.941, 'relativeDirection': 'DEPART', 'streetName': 'West 26th Street', 'absoluteDirection': 'WEST', 'stayOn': False, 'area': False, 'bogusName': False, 'lon': -87.68559633424746, 'lat': 41.84483361152588, 'elevation': []}, {'distance': 102.622, 'relativeDirection': 'RIGHT', 'streetName': 'service road', 'absoluteDirection': 'NORTH', 'stayOn': False, 'area': False, 'bogusName': False, 'lon': -87.68606630000001, 'lat': 41.844825300000004, 'elevation': []}]}], 'tooSloped': False}, {'duration': 3715, 'startTime': 1511886060000, 'endTime': 1511889775000, 'walkTime': 314, 'transitTime': 3080, 'waitingTime': 321, 'walkDistance': 400.5272932309113, 'walkLimitExceeded': False, 'elevationLost': 0.0, 'elevationGained': 0.0, 'transfers': 1, 'legs': [{'startTime': 1511886060000, 'endTime': 1511886239000, 'departureDelay': 0, 'arrivalDelay': 0, 'realTime': False, 'distance': 231.862, 'pathway': False, 'mode': 'WALK', 'route': '', 'agencyTimeZoneOffset': -21600000, 'interlineWithPreviousLeg': False, 'from': {'name': 'Origin', 'lon': -87.6748518, 'lat': 41.96311740000001, 'departure': 1511886060000, 'orig': '', 'vertexType': 'NORMAL'}, 'to': {'name': 'Montrose Brown Line Station', 'stopId': '1:11373', 'stopCode': '11373', 'lon': -87.67515475, 'lat': 41.96155781, 'arrival': 1511886239000, 'departure': 1511886240000, 'stopIndex': 15, 'stopSequence': 16, 'vertexType': 'TRANSIT'}, 'legGeometry': {'points': 'o|b_G`}bvO`II@xB?D', 'length': 4}, 'rentedBike': False, 'duration': 179.0, 'transitLeg': False, 'steps': [{'distance': 178.719, 'relativeDirection': 'DEPART', 'streetName': 'North Ravenswood Avenue', 'absoluteDirection': 'SOUTH', 'stayOn': False, 'area': False, 'bogusName': False, 'lon': -87.67456332280878, 'lat': 41.96312259388578, 'elevation': []}, {'distance': 53.143, 'relativeDirection': 'RIGHT', 'streetName': 'West Montrose Avenue', 'absoluteDirection': 'WEST', 'stayOn': False, 'area': False, 'bogusName': False, 'lon': -87.67451100000001, 'lat': 41.9615158, 'elevation': []}]}, {'startTime': 1511886240000, 'endTime': 1511886540000, 'departureDelay': 0, 'arrivalDelay': 0, 'realTime': False, 'distance': 1103.7936588295343, 'pathway': False, 'mode': 'BUS', 'route': '78', 'agencyName': 'Chicago Transit Authority', 'agencyUrl': 'http://transitchicago.com', 'agencyTimeZoneOffset': -21600000, 'routeType': 3, 'routeId': '1:78', 'interlineWithPreviousLeg': False, 'tripBlockId': '484000003886', 'headsign': 'Harlem', 'agencyId': '1', 'tripId': '1:484119864500', 'serviceDate': '20171128', 'from': {'name': 'Montrose Brown Line Station', 'stopId': '1:11373', 'stopCode': '11373', 'lon': -87.67515475, 'lat': 41.96155781, 'arrival': 1511886239000, 'departure': 1511886240000, 'stopIndex': 15, 'stopSequence': 16, 'vertexType': 'TRANSIT'}, 'to': {'name': 'Montrose & Western', 'stopId': '1:11379', 'stopCode': '11379', 'lon': -87.68850147, 'lat': 41.96138618, 'arrival': 1511886540000, 'departure': 1511886540000, 'stopIndex': 21, 'stopSequence': 22, 'vertexType': 'TRANSIT'}, 'legGeometry': {'points': 'orb_G~_cvO?n@?d@?h@?h@@t@?f@?l@?`@An@A`@Dh@?rJ?HJrPAl@Bp@?r@?n@@f@Ar@Af@?b@@`@?h@@p@?r@?`A?z@@|@?f@?b@Cd@@j@@j@@|@@p@?x@?l@?l@Aj@C^', 'length': 42}, 'routeShortName': '78', 'routeLongName': 'Montrose', 'rentedBike': False, 'duration': 300.0, 'transitLeg': True, 'steps': []}, {'startTime': 1511886540000, 'endTime': 1511886563000, 'departureDelay': 0, 'arrivalDelay': 0, 'realTime': False, 'distance': 27.035, 'pathway': False, 'mode': 'WALK', 'route': '', 'agencyTimeZoneOffset': -21600000, 'interlineWithPreviousLeg': False, 'from': {'name': 'Montrose & Western', 'stopId': '1:11379', 'stopCode': '11379', 'lon': -87.68850147, 'lat': 41.96138618, 'arrival': 1511886540000, 'departure': 1511886540000, 'stopIndex': 21, 'stopSequence': 22, 'vertexType': 'TRANSIT'}, 'to': {'name': 'Western & Montrose', 'stopId': '1:8187', 'stopCode': '8187', 'lon': -87.68882368, 'lat': 41.96141941, 'arrival': 1511886563000, 'departure': 1511886882000, 'stopIndex': 8, 'stopSequence': 9, 'vertexType': 'TRANSIT'}, 'legGeometry': {'points': '{qb_GptevOTVU?', 'length': 3}, 'rentedBike': False, 'duration': 23.0, 'transitLeg': False, 'steps': [{'distance': 15.57, 'relativeDirection': 'DEPART', 'streetName': 'path', 'absoluteDirection': 'SOUTHWEST', 'stayOn': False, 'area': False, 'bogusName': True, 'lon': -87.68856346043509, 'lat': 41.96142551633532, 'elevation': []}, {'distance': 11.465, 'relativeDirection': 'HARD_RIGHT', 'streetName': 'North Western Avenue', 'absoluteDirection': 'NORTH', 'stayOn': False, 'area': False, 'bogusName': False, 'lon': -87.68868570000001, 'lat': 41.961319, 'elevation': []}]}, {'startTime': 1511886882000, 'endTime': 1511889662000, 'departureDelay': 0, 'arrivalDelay': 0, 'realTime': False, 'distance': 12958.509816029906, 'pathway': False, 'mode': 'BUS', 'route': '49', 'agencyName': 'Chicago Transit Authority', 'agencyUrl': 'http://transitchicago.com', 'agencyTimeZoneOffset': -21600000, 'routeType': 3, 'routeId': '1:49', 'interlineWithPreviousLeg': False, 'tripBlockId': '484000001309', 'headsign': '79th', 'agencyId': '1', 'tripId': '1:484119304906', 'serviceDate': '20171128', 'from': {'name': 'Western & Montrose', 'stopId': '1:8187', 'stopCode': '8187', 'lon': -87.68882368, 'lat': 41.96141941, 'arrival': 1511886563000, 'departure': 1511886882000, 'stopIndex': 8, 'stopSequence': 9, 'vertexType': 'TRANSIT'}, 'to': {'name': 'Western & 26th Street', 'stopId': '1:8257', 'stopCode': '8257', 'lon': -87.68559876, 'lat': 41.84490973, 'arrival': 1511889662000, 'departure': 1511889663000, 'stopIndex': 54, 'stopSequence': 55, 'vertexType': 'TRANSIT'}, 'legGeometry': {'points': '{qb_G|uevOd@BRENCTAT?T?T?RAT?T?T?TAT?T?TAT?TAT?T?TAT?TAT?T?TAT?T?TAT?TAJ?LBT?D?\\\\Ad@G\\\\?^?`@?^?`@?`@?\\\\?`@?^?X?@?F?j@Ef@Ad@?j@Cj@?j@?j@?f@Cb@A^?\\\\CZ?NBNAT?TAT?TAT?T?TAT?T?HAT?T?T?TAT?T?T?TAT?T?T?TAT?T?T?TAT?T?DAH@R@R?IAjVOl@AD?TATAT?TAT?TAT?TAT?TAT?TAT?TAR?T?TAT?T?TAT?TAT?T?T?T?H?T?T?T@TAT?T?T?T?TAT?T?T?T?T?T?FAT?T?TAT?X?TAT?T?T?TAT?T?T?TAT?T?T?R?TAF?T?V?T@R?T?T@T?T?T?T@T?T?T@T?N?PATEFATELATAT?H?T?TAT?F?TAT?R?T?TAT?T?T?TAT?T?TAT?T?TAT?T?TAT?T?TAD?T?TAT?T?HAT?T?T?TAT?T?T?T?R?TAT?H?T?T?TAT?TAT?T?RAVDN?{@EdIOd@BdFCRBPCTAPAT?J?P?VATAT?TAN?T?L?X?TATAT?JAT?T?JATATAVAT?T?TAT?L?RAT?T?T?TAL?N@VBTAF?BE\\\\Cb@?f@Al@Cl@Bf@?`@?P?V@^?\\\\?b@Ab@Cb@Cd@?^?ZA\\\\@F?h@GRAV?T?TAT?T?T?TAT?T?T?R?TAT?TAT?T?NAT?T?TAT?T?TAF?TAT?TAT?T?TAT?TAH?LFR@RBRARENGT?T?T?T?T?T?TAV?T?TAT?TAL?NDP?^If@Bd@?d@Ch@?d@?\\\\?\\\\E^?^C^?b@B\\\\?\\\\?F?ECT?T?TAT?V?TAT?T?T?TAT?T?TAT?TAT?R?TAT?T?TAT?T?T?TAT?T?TAP?T?XBNEzHGr@@T?TAD?RAJAT?LAT?N?T?H?T?H?R?H?TAT?TATAT?T?T?RAT?T?T?TAT?T?T?TAT?T?T?TAT?T?T?TAT?T?T?TAT?T?FATBF@T?P@TGd@?`@A`@?d@?f@Cf@?f@?`@Ad@DR?\\\\Q`KKb@@lII@?TJjGK`@?vKMM?T?T?X?R?TAT?T?T?TAT?T?T?TAT?T?T?TAR?T?TAT?TAT?T?RAJFRDR?b@E\\\\Ab@?d@?f@Gd@?`@FX?^?f@ITCVATCRCT?T?T?V?TBRBT?T?D?T?T?J?TEVCT?L?T?H?Z?TATATAF?TCRCX?T?H?ZAT?H?T?D?T?H?T?N?T?J?T?L?T?N?X?H?V?d@Ed@?\\\\?Z?d@Cj@?\\\\A`@?`@@Z?b@?L?j@D`@?b@Ab@?Z?^?ZCZ?B?TCTCDATAT?T?TAT?T?T?TAT?T?T?TAT?T?T?T?T?T?TAT?V?R?T?T?T?T?T?T?T?P?T?D?T?T?TAT?T?T?TAT?T?T?TAR?T?TAT?T?R?T@L?j@Eh@Er@?r@En@?b@?P??@tOSX?tIEl@CTAT?T?TAT?T?T?TAT?T?T?TAT?TAR?TAT?T?TAT?RDT@J?T@P?NANETETAT?TAT?TAT?TAR?TAT?T?TAT?TAT?TAT?R?R?J?TANAT?T?T?X?T?R?V?TAJATAFAb@Df@?\\\\A^?b@C`@?\\\\?\\\\?X?f@A\\\\?b@?d@Cf@Aj@?j@?f@?j@?^?\\\\?V?T?T?L?TANAT?L?T?D?T?F?T?T@T@F?T?L?T?F?T@H?TAH?T?D?T?F??CT?TETEJAR?T?T?TAF?T?T?TAT?T?TAT?TAT?T?XANBX?\\\\E\\\\?\\\\?h@A^?b@Cd@Cb@?b@?ZA`@@`@?\\\\?^?Z?`@AH?PJPGRET?T?TAT?T?TAT?T?VAT?TAT?TAT?T?TAT?T?FAR?T?T?T?T?N?TAFAJCPAP@T@T?T?T?TAT?TAP?T?T?TAT?T?T?T?TAT?T?T?T?H?T?TAT?T?T?TAT?T?T?T?VAT?T?T?F?', 'length': 872}, 'routeShortName': '49', 'routeLongName': 'Western', 'rentedBike': False, 'duration': 2780.0, 'transitLeg': True, 'steps': []}, {'startTime': 1511889663000, 'endTime': 1511889775000, 'departureDelay': 0, 'arrivalDelay': 0, 'realTime': False, 'distance': 141.563, 'pathway': False, 'mode': 'WALK', 'route': '', 'agencyTimeZoneOffset': -21600000, 'interlineWithPreviousLeg': False, 'from': {'name': 'Western & 26th Street', 'stopId': '1:8257', 'stopCode': '8257', 'lon': -87.68559876, 'lat': 41.84490973, 'arrival': 1511889662000, 'departure': 1511889663000, 'stopIndex': 54, 'stopSequence': 55, 'vertexType': 'TRANSIT'}, 'to': {'name': 'Destination', 'lon': -87.6858569, 'lat': 41.8457521, 'arrival': 1511889775000, 'orig': '', 'vertexType': 'NORMAL'}, 'legGeometry': {'points': 'eyk~F~aevO@|AwDD', 'length': 3}, 'rentedBike': False, 'duration': 112.0, 'transitLeg': False, 'steps': [{'distance': 38.941, 'relativeDirection': 'DEPART', 'streetName': 'West 26th Street', 'absoluteDirection': 'WEST', 'stayOn': False, 'area': False, 'bogusName': False, 'lon': -87.68559633424746, 'lat': 41.84483361152588, 'elevation': []}, {'distance': 102.622, 'relativeDirection': 'RIGHT', 'streetName': 'service road', 'absoluteDirection': 'NORTH', 'stayOn': False, 'area': False, 'bogusName': False, 'lon': -87.68606630000001, 'lat': 41.844825300000004, 'elevation': []}]}], 'tooSloped': False}]}, 'debugOutput': {'precalculationTime': 69, 'pathCalculationTime': 998, 'pathTimes': [645, 190, 162], 'renderingTime': 6, 'totalTime': 1073, 'timedOut': False}, 'elevationMetadata': {'ellipsoidToGeoidDifference': -34.39816959422139, 'geoidElevation': False}}\n"
     ]
    }
   ],
   "source": [
    "origin_lat = centers_lim[\"latitude\"].values[1]\n",
    "origin_lon = centers_lim[\"longitude\"].values[1]\n",
    "\n",
    "destination_lat = centers_lim[\"latitude\"].values[10]\n",
    "destination_lon = centers_lim[\"longitude\"].values[10]\n",
    "\n",
    "qry_url = '{}plan?fromPlace={},{}&toPlace={},{}'\\\n",
    ".format(base_url, origin_lat, origin_lon, destination_lat, destination_lon)\n",
    "\n",
    "print(qry_url)\n",
    "\n",
    "response = requests.get(qry_url)\n",
    "response = response.text\n",
    "plan = json.loads(response)\n",
    "\n",
    "# Examine the response, which is a routing plan:\n",
    "print(plan)"
   ]
  },
  {
   "cell_type": "code",
   "execution_count": 22,
   "metadata": {
    "collapsed": false
   },
   "outputs": [
    {
     "name": "stdout",
     "output_type": "stream",
     "text": [
      "<class 'dict'>\n"
     ]
    }
   ],
   "source": [
    "# So again our JSON object was transformed into a Python dict.\n",
    "print(type(plan))"
   ]
  },
  {
   "cell_type": "code",
   "execution_count": 23,
   "metadata": {
    "collapsed": false
   },
   "outputs": [
    {
     "name": "stdout",
     "output_type": "stream",
     "text": [
      "dict_keys(['requestParameters', 'plan', 'debugOutput', 'elevationMetadata'])\n"
     ]
    }
   ],
   "source": [
    "# We can look at the available keys:\n",
    "print(plan.keys())"
   ]
  },
  {
   "cell_type": "code",
   "execution_count": 24,
   "metadata": {
    "collapsed": false
   },
   "outputs": [
    {
     "name": "stdout",
     "output_type": "stream",
     "text": [
      "{'fromPlace': '41.96311740000001,-87.6748518', 'toPlace': '41.8457521,-87.6858569'}\n"
     ]
    }
   ],
   "source": [
    "# And use those keys to see the dict'svalues.\n",
    "# For instance, let's print out the requestParameters:\n",
    "print(plan['requestParameters'])"
   ]
  },
  {
   "cell_type": "code",
   "execution_count": 25,
   "metadata": {
    "collapsed": false
   },
   "outputs": [
    {
     "name": "stdout",
     "output_type": "stream",
     "text": [
      "<class 'dict'>\n",
      "dict_keys(['date', 'from', 'to', 'itineraries'])\n"
     ]
    }
   ],
   "source": [
    "# Dicts can contain other dicts, like in the case of the plan:\n",
    "print(type(plan[\"plan\"]))\n",
    "print(plan['plan'].keys())"
   ]
  },
  {
   "cell_type": "code",
   "execution_count": 26,
   "metadata": {
    "collapsed": false
   },
   "outputs": [
    {
     "name": "stdout",
     "output_type": "stream",
     "text": [
      "{'name': 'Destination', 'lon': -87.6858569, 'lat': 41.8457521, 'orig': '', 'vertexType': 'NORMAL'}\n"
     ]
    }
   ],
   "source": [
    "## We can use a similar syntax torfer to the keys of a dict within a dict:\n",
    "print(plan[\"plan\"][\"to\"])"
   ]
  },
  {
   "cell_type": "code",
   "execution_count": 27,
   "metadata": {
    "collapsed": false
   },
   "outputs": [
    {
     "name": "stdout",
     "output_type": "stream",
     "text": [
      "raw time value: 1511885060000\n",
      "datetime formatted: 2017-11-28 11:04:20\n"
     ]
    }
   ],
   "source": [
    "# Time is stored in a raw computer format\n",
    "print('raw time value: {}'.format(plan['plan']['date']))\n",
    "\n",
    "# But we can convert it to a datetime object so it's comprehensible.\n",
    "# note OTP returns raw time value with three extra zeros, divide by 1000 to get rid of them\n",
    "print('datetime formatted: {}'.format(time.strftime('%Y-%m-%d %H:%M:%S', time.localtime(plan['plan']['date']/1000))))"
   ]
  },
  {
   "cell_type": "code",
   "execution_count": 28,
   "metadata": {
    "collapsed": false
   },
   "outputs": [
    {
     "name": "stdout",
     "output_type": "stream",
     "text": [
      "3\n",
      "dict_keys(['duration', 'startTime', 'endTime', 'walkTime', 'transitTime', 'waitingTime', 'walkDistance', 'walkLimitExceeded', 'elevationLost', 'elevationGained', 'transfers', 'legs', 'tooSloped'])\n"
     ]
    }
   ],
   "source": [
    "# 'itineraries' holds a lot more information, let's start with how many itineraries were returned\n",
    "print(len(plan['plan']['itineraries']))\n",
    "\n",
    "# and list what keys exit for the first itinerary\n",
    "print(plan['plan']['itineraries'][0].keys())"
   ]
  },
  {
   "cell_type": "code",
   "execution_count": 29,
   "metadata": {
    "collapsed": false
   },
   "outputs": [
    {
     "name": "stdout",
     "output_type": "stream",
     "text": [
      "duration (minutes) = 61.92 | transfers = 1 | walkDist = 400.53 | legs = 5 | startTime = 11:05:00 | endTime = 12:06:55\n",
      "duration (minutes) = 64.50 | transfers = 0 | walkDist = 1360.79 | legs = 3 | startTime = 11:10:25 | endTime = 12:14:55\n",
      "duration (minutes) = 61.92 | transfers = 1 | walkDist = 400.53 | legs = 5 | startTime = 11:21:00 | endTime = 12:22:55\n"
     ]
    }
   ],
   "source": [
    "# compare the three itineraries across some pieces\n",
    "for i in plan['plan']['itineraries']:\n",
    "    print('duration (minutes) = {0:.2f} | transfers = {1:} | walkDist = {2:.2f} | \\\n",
    "legs = {4:} | startTime = {5:} | endTime = {6:}'\\\n",
    ".format(i['duration']/60., i['transfers'], i['walkDistance'], i['walkTime'], len(i['legs']), \n",
    "        time.strftime('%H:%M:%S', time.localtime(i['startTime']/1000)), \n",
    "        time.strftime('%H:%M:%S', time.localtime(i['endTime']/1000))))"
   ]
  },
  {
   "cell_type": "code",
   "execution_count": 30,
   "metadata": {
    "collapsed": false
   },
   "outputs": [
    {
     "name": "stdout",
     "output_type": "stream",
     "text": [
      "dict_keys(['startTime', 'endTime', 'departureDelay', 'arrivalDelay', 'realTime', 'distance', 'pathway', 'mode', 'route', 'agencyTimeZoneOffset', 'interlineWithPreviousLeg', 'from', 'to', 'legGeometry', 'rentedBike', 'duration', 'transitLeg', 'steps'])\n"
     ]
    }
   ],
   "source": [
    "# note we just counted the length of the \"legs\" output, it contains the details of the actual route\n",
    "# here is what is included in a \"leg\"\n",
    "print(plan['plan']['itineraries'][0]['legs'][0].keys())"
   ]
  },
  {
   "cell_type": "code",
   "execution_count": 31,
   "metadata": {
    "collapsed": false
   },
   "outputs": [
    {
     "name": "stdout",
     "output_type": "stream",
     "text": [
      "distance = 231.86 | duration = 179 | mode = WALK | route =  | steps = 2\n",
      "distance = 1,103.79 | duration = 300 | mode = BUS | route = 78 | steps = 0\n",
      "distance = 27.04 | duration = 23 | mode = WALK | route =  | steps = 2\n",
      "distance = 12,958.51 | duration = 2780 | mode = BUS | route = 49 | steps = 0\n",
      "distance = 141.56 | duration = 112 | mode = WALK | route =  | steps = 2\n"
     ]
    }
   ],
   "source": [
    "# let's compare the three legs of the first itinerary, similarly as we compared the itineraries\n",
    "for leg in plan['plan']['itineraries'][0]['legs']:\n",
    "    print('distance = {:,.2f} | duration = {:.0f} | mode = {} | route = {} | steps = {}'.\\\n",
    "format(leg['distance'], leg['duration'], leg['mode'], leg['route'], len(leg['steps'])))"
   ]
  },
  {
   "cell_type": "markdown",
   "metadata": {},
   "source": [
    "So, if mode is 'WALK' then route is blank and steps is a list. what is included in one of those 'steps'?"
   ]
  },
  {
   "cell_type": "code",
   "execution_count": 32,
   "metadata": {
    "collapsed": false
   },
   "outputs": [
    {
     "name": "stdout",
     "output_type": "stream",
     "text": [
      "dict_keys(['distance', 'relativeDirection', 'streetName', 'absoluteDirection', 'stayOn', 'area', 'bogusName', 'lon', 'lat', 'elevation'])\n"
     ]
    }
   ],
   "source": [
    "print(plan['plan']['itineraries'][0]['legs'][0]['steps'][0].keys())"
   ]
  },
  {
   "cell_type": "code",
   "execution_count": 33,
   "metadata": {
    "collapsed": false
   },
   "outputs": [
    {
     "name": "stdout",
     "output_type": "stream",
     "text": [
      "leg sends person on following streets:\n",
      "North Ravenswood Avenue\n",
      "West Montrose Avenue\n",
      "leg sends person on following streets:\n",
      "N/A - not a walking leg.\n",
      "leg sends person on following streets:\n",
      "path\n",
      "North Western Avenue\n",
      "leg sends person on following streets:\n",
      "N/A - not a walking leg.\n",
      "leg sends person on following streets:\n",
      "West 26th Street\n",
      "service road\n"
     ]
    }
   ],
   "source": [
    "# so, what streets does this first route call for a person to walk on?\n",
    "for leg in plan['plan']['itineraries'][0]['legs']:\n",
    "    print('leg sends person on following streets:')\n",
    "    if leg['mode']=='WALK':\n",
    "        for step in leg['steps']:\n",
    "            print(step['streetName'])\n",
    "    else:\n",
    "        print('N/A - not a walking leg.')"
   ]
  },
  {
   "cell_type": "markdown",
   "metadata": {},
   "source": [
    "## Isochrone API\n",
    "\n",
    "- Back to the [Table of Contents](#Table-of-Contents)\n",
    "\n",
    "The Isochrone (meaning same-time) tool gives the area (as a polygon) a traveler can reach from a specified point within a travel time. Like the other APIs, the Isochrone API has many other query parameters the user can set if so desired, [description here](http://dev.opentripplanner.org/apidoc/1.0.0/resource_LIsochrone.html). It requires that we define a starting location, a mode of transportation, a date, and an amount of travel time.\n",
    "\n",
    "Below, we start in downtown Chicago, allowing use of foot and public transit, on a certain date, and with 30 minutes of travel time allowed."
   ]
  },
  {
   "cell_type": "code",
   "execution_count": 34,
   "metadata": {
    "collapsed": false
   },
   "outputs": [
    {
     "name": "stdout",
     "output_type": "stream",
     "text": [
      "http://localhost:8080/otp/routers/default/isochrone?fromPlace=41.846698,-87.621385&mode=WALK,TRANSIT&cutoffSec=1800\n",
      "{\"type\":\"FeatureCollection\",\"features\":[{\"type\":\"Feature\",\"geometry\":{\"type\":\"MultiPolygon\",\"coordinates\":[[[[-87.6588,41.8467],[-87.66,41.846],[-87.6618,41.8449],[-87.6624,41.8443],[-87.664,41.8431],[-87.6648,41.8418],[-87.6651,41.8413],[-87.666,41.8405],[-87.6671,41.8395],[-87.6673,41.8393],[-87.668,41.839],[-87.6697,41.8377],[-87.6697,41.8377],[-87.67,41.8375],[-87.6715,41.8359],[-87.6721,41.8355],[-87.674,41.8341],[-87.6736,41.833],[-87.6721,41.8326],[-87.6717,41.8326],[-87.6697,41.8336],[-87.668,41.8341],[-87.6673,41.8345],[-87.6665,41.8346],[-87.6648,41.8354],[-87.6636,41.8359],[-87.6624,41.8365],[-87.6616,41.8365],[-87.66,41.8369],[-87.658,41.8377],[-87.6576,41.8378],[-87.6573,41.8379],[-87.6552,41.8381],[-87.6537,41.8388],[-87.6528,41.8392],[-87.6516,41.8395],[-87.6504,41.8398],[-87.6491,41.8404],[-87.6479,41.8407],[-87.6476,41.8413],[-87.6472,41.8418],[-87.6479,41.8423],[-87.6483,41.8429],[-87.6481,41.8431],[-87.6479,41.8433],[-87.6474,41.8435],[-87.6455,41.8439],[-87.645,41.8435],[-87.6444,41.8431],[-87.6438,41.8426],[-87.6436,41.8413],[-87.6436,41.8409],[-87.6438,41.8395],[-87.6442,41.8387],[-87.6438,41.8377],[-87.6451,41.8363],[-87.6431,41.8372],[-87.6424,41.8364],[-87.642,41.8359],[-87.6423,41.8347],[-87.6425,41.8341],[-87.6431,41.8334],[-87.6445,41.8331],[-87.6455,41.8327],[-87.6475,41.8323],[-87.6479,41.8321],[-87.6482,41.8321],[-87.6504,41.8317],[-87.6516,41.8305],[-87.6527,41.8288],[-87.6504,41.8294],[-87.6495,41.8293],[-87.6479,41.8295],[-87.6471,41.8293],[-87.6455,41.8288],[-87.6454,41.8288],[-87.6431,41.8288],[-87.643,41.8288],[-87.6424,41.8287],[-87.641,41.8285],[-87.6407,41.8284],[-87.6388,41.8284],[-87.6383,41.828],[-87.638,41.8271],[-87.638,41.8269],[-87.6374,41.8258],[-87.6372,41.8251],[-87.6383,41.8241],[-87.6394,41.8233],[-87.6403,41.8218],[-87.6383,41.8219],[-87.6381,41.8216],[-87.6359,41.822],[-87.6354,41.8219],[-87.6354,41.8215],[-87.6359,41.82],[-87.6368,41.8208],[-87.6383,41.8213],[-87.6386,41.8213],[-87.6407,41.8213],[-87.6414,41.821],[-87.6431,41.8202],[-87.6455,41.8197],[-87.6455,41.8197],[-87.6478,41.8197],[-87.6456,41.8197],[-87.6456,41.8179],[-87.6474,41.8165],[-87.6455,41.8179],[-87.6436,41.8175],[-87.6431,41.8177],[-87.6417,41.8172],[-87.6407,41.8171],[-87.6395,41.817],[-87.6383,41.8167],[-87.6371,41.817],[-87.637,41.8161],[-87.6363,41.8158],[-87.6359,41.8151],[-87.6356,41.8145],[-87.6353,41.8143],[-87.6353,41.8129],[-87.6352,41.8125],[-87.6345,41.8117],[-87.6339,41.8107],[-87.6344,41.81],[-87.6353,41.8089],[-87.6347,41.808],[-87.6339,41.8071],[-87.6339,41.8068],[-87.634,41.8053],[-87.6338,41.805],[-87.6335,41.8041],[-87.6318,41.8053],[-87.631,41.8058],[-87.631,41.8054],[-87.6309,41.8053],[-87.6308,41.8037],[-87.6308,41.8035],[-87.631,41.8032],[-87.6327,41.8017],[-87.6324,41.8007],[-87.6318,41.7999],[-87.6317,41.7994],[-87.631,41.7996],[-87.6292,41.7995],[-87.6286,41.7995],[-87.6281,41.7985],[-87.628,41.7981],[-87.6286,41.7965],[-87.6292,41.7963],[-87.631,41.7947],[-87.6312,41.7945],[-87.633,41.7931],[-87.631,41.7944],[-87.63,41.7935],[-87.6297,41.7927],[-87.6301,41.7916],[-87.6298,41.7909],[-87.6292,41.7905],[-87.6286,41.7901],[-87.6283,41.7894],[-87.6281,41.7891],[-87.6286,41.788],[-87.6293,41.7873],[-87.629,41.7871],[-87.6286,41.7866],[-87.6282,41.7858],[-87.6281,41.7855],[-87.6278,41.7844],[-87.6276,41.7837],[-87.6273,41.7829],[-87.6269,41.7819],[-87.6276,41.7809],[-87.628,41.7801],[-87.6282,41.7787],[-87.6262,41.7785],[-87.6259,41.7786],[-87.6238,41.7795],[-87.6231,41.7801],[-87.6234,41.7804],[-87.6237,41.7819],[-87.6231,41.7825],[-87.6219,41.7837],[-87.6222,41.7849],[-87.6222,41.7855],[-87.622,41.7869],[-87.6219,41.7873],[-87.6214,41.7891],[-87.6214,41.7891],[-87.6214,41.7894],[-87.6211,41.7909],[-87.6209,41.7913],[-87.621,41.7927],[-87.6205,41.7934],[-87.6195,41.7945],[-87.619,41.7952],[-87.6188,41.7947],[-87.6187,41.7945],[-87.6183,41.7932],[-87.618,41.7927],[-87.6177,41.7919],[-87.6176,41.7909],[-87.6175,41.7902],[-87.6174,41.7891],[-87.6171,41.7887],[-87.6168,41.7873],[-87.6168,41.7871],[-87.6169,41.7855],[-87.6181,41.7844],[-87.6166,41.7848],[-87.6154,41.7855],[-87.6153,41.7865],[-87.6154,41.7873],[-87.6141,41.7886],[-87.6131,41.7891],[-87.6131,41.7899],[-87.613,41.7909],[-87.6135,41.7914],[-87.6133,41.7927],[-87.6133,41.7934],[-87.6129,41.7945],[-87.6123,41.7959],[-87.6123,41.7963],[-87.612,41.7979],[-87.6119,41.7981],[-87.6121,41.7997],[-87.6121,41.7999],[-87.6117,41.8013],[-87.6109,41.8017],[-87.6095,41.8034],[-87.6094,41.8035],[-87.6093,41.8036],[-87.6093,41.8035],[-87.6093,41.8035],[-87.6091,41.8019],[-87.6089,41.8017],[-87.6087,41.8004],[-87.608,41.7999],[-87.6073,41.7996],[-87.6069,41.799],[-87.6051,41.7999],[-87.6045,41.8002],[-87.6034,41.8017],[-87.6036,41.8024],[-87.6035,41.8035],[-87.6026,41.805],[-87.6024,41.8053],[-87.6027,41.8066],[-87.6026,41.8071],[-87.6021,41.8079],[-87.6013,41.8089],[-87.6013,41.8095],[-87.6016,41.8107],[-87.601,41.8116],[-87.6002,41.8125],[-87.6003,41.8138],[-87.6007,41.8143],[-87.5997,41.8153],[-87.5988,41.8161],[-87.5989,41.8167],[-87.5985,41.8179],[-87.5988,41.8186],[-87.5986,41.8197],[-87.5974,41.8214],[-87.5975,41.8215],[-87.5975,41.8232],[-87.5977,41.8233],[-87.5972,41.8245],[-87.5964,41.8251],[-87.5966,41.8256],[-87.5972,41.8266],[-87.5975,41.8267],[-87.5976,41.8269],[-87.5986,41.8277],[-87.5997,41.8279],[-87.6002,41.8283],[-87.6003,41.8287],[-87.6003,41.83],[-87.6001,41.8305],[-87.6009,41.8313],[-87.6021,41.8317],[-87.6027,41.8319],[-87.6025,41.8323],[-87.6034,41.8331],[-87.6036,41.8341],[-87.6036,41.8347],[-87.6045,41.8351],[-87.605,41.8355],[-87.6053,41.8359],[-87.6046,41.8376],[-87.6045,41.8377],[-87.6045,41.8379],[-87.6025,41.8395],[-87.603,41.8406],[-87.6045,41.8411],[-87.6048,41.8411],[-87.6054,41.8413],[-87.6066,41.8415],[-87.6069,41.842],[-87.6074,41.8427],[-87.6093,41.8422],[-87.6095,41.8429],[-87.6095,41.8431],[-87.6098,41.8446],[-87.6099,41.8449],[-87.6095,41.8466],[-87.6102,41.8467],[-87.6093,41.847],[-87.608,41.8485],[-87.608,41.8494],[-87.6081,41.8503],[-87.6083,41.851],[-87.6086,41.8521],[-87.6087,41.8525],[-87.6093,41.8539],[-87.6093,41.8539],[-87.6093,41.8539],[-87.6101,41.8551],[-87.6103,41.8557],[-87.6108,41.8564],[-87.6117,41.857],[-87.6124,41.857],[-87.6133,41.8575],[-87.6136,41.8579],[-87.614,41.8593],[-87.6122,41.8607],[-87.6122,41.8611],[-87.6117,41.8626],[-87.6095,41.8628],[-87.6093,41.8629],[-87.6091,41.8629],[-87.6069,41.8632],[-87.6053,41.8647],[-87.6045,41.866],[-87.6042,41.8665],[-87.6043,41.8666],[-87.6045,41.8669],[-87.6054,41.8676],[-87.6069,41.8682],[-87.6069,41.8682],[-87.6093,41.868],[-87.6097,41.868],[-87.6099,41.8683],[-87.6111,41.8687],[-87.6117,41.8692],[-87.6125,41.8695],[-87.6141,41.8697],[-87.6146,41.8697],[-87.6146,41.8701],[-87.6146,41.8715],[-87.6146,41.8719],[-87.6146,41.8733],[-87.6147,41.8737],[-87.6156,41.8744],[-87.6163,41.8755],[-87.6163,41.8757],[-87.6163,41.8773],[-87.6162,41.8775],[-87.6159,41.8791],[-87.6161,41.8794],[-87.6166,41.8801],[-87.6171,41.8804],[-87.6171,41.8809],[-87.6179,41.8817],[-87.6186,41.8827],[-87.6183,41.8831],[-87.6175,41.8845],[-87.618,41.8852],[-87.6189,41.8863],[-87.6189,41.8863],[-87.6189,41.8881],[-87.6189,41.8881],[-87.619,41.8881],[-87.6209,41.8884],[-87.6214,41.8888],[-87.6222,41.8892],[-87.6222,41.8899],[-87.6228,41.8906],[-87.6237,41.8917],[-87.6237,41.8917],[-87.6238,41.8917],[-87.6258,41.8919],[-87.6262,41.8922],[-87.6271,41.8928],[-87.6286,41.893],[-87.6302,41.8917],[-87.6295,41.891],[-87.6286,41.8902],[-87.6275,41.8907],[-87.6262,41.8904],[-87.6248,41.8909],[-87.626,41.8899],[-87.6262,41.8897],[-87.6283,41.8881],[-87.6286,41.8878],[-87.6297,41.8863],[-87.6292,41.8858],[-87.63,41.8845],[-87.6305,41.883],[-87.6297,41.8827],[-87.631,41.8822],[-87.6315,41.8823],[-87.6313,41.8827],[-87.6317,41.8839],[-87.6335,41.8834],[-87.635,41.8827],[-87.6347,41.8817],[-87.6345,41.8809],[-87.634,41.8805],[-87.6335,41.8796],[-87.6325,41.8798],[-87.6322,41.8791],[-87.6333,41.8774],[-87.6334,41.8773],[-87.6335,41.8772],[-87.6354,41.8755],[-87.6354,41.874],[-87.6355,41.8737],[-87.6346,41.8728],[-87.6346,41.8719],[-87.6349,41.8708],[-87.6348,41.8701],[-87.6359,41.8697],[-87.6363,41.8698],[-87.6364,41.8701],[-87.6366,41.8713],[-87.6383,41.8714],[-87.6391,41.8713],[-87.6407,41.8712],[-87.6428,41.8703],[-87.6431,41.8702],[-87.6432,41.8701],[-87.6455,41.8686],[-87.6475,41.8686],[-87.6479,41.8686],[-87.65,41.8686],[-87.6504,41.8686],[-87.6514,41.8683],[-87.6519,41.8672],[-87.6522,41.8665],[-87.6509,41.8661],[-87.6504,41.8659],[-87.6488,41.8658],[-87.6479,41.8658],[-87.6466,41.8657],[-87.6455,41.8653],[-87.6449,41.8652],[-87.6431,41.8649],[-87.6428,41.8649],[-87.6426,41.8647],[-87.6414,41.8642],[-87.6407,41.8635],[-87.6396,41.8637],[-87.6383,41.8639],[-87.6377,41.8647],[-87.6359,41.8659],[-87.6342,41.8659],[-87.6335,41.8658],[-87.6323,41.8656],[-87.6322,41.8647],[-87.6321,41.8639],[-87.632,41.8629],[-87.6335,41.8614],[-87.634,41.8611],[-87.6359,41.8595],[-87.637,41.8603],[-87.6383,41.8608],[-87.6398,41.86],[-87.6407,41.8594],[-87.6425,41.8593],[-87.6431,41.8592],[-87.6432,41.8592],[-87.6455,41.8582],[-87.6471,41.8582],[-87.6479,41.8579],[-87.6489,41.8575],[-87.6504,41.8568],[-87.6512,41.8568],[-87.6528,41.8568],[-87.6544,41.8563],[-87.6552,41.856],[-87.6572,41.856],[-87.6576,41.856],[-87.6587,41.8557],[-87.66,41.8549],[-87.6609,41.855],[-87.6624,41.8545],[-87.6645,41.8542],[-87.6648,41.8541],[-87.6662,41.8539],[-87.6673,41.8536],[-87.6683,41.8521],[-87.6678,41.8517],[-87.6673,41.8513],[-87.666,41.8512],[-87.6648,41.8511],[-87.6638,41.8511],[-87.6624,41.8511],[-87.6613,41.8511],[-87.66,41.8509],[-87.6594,41.8507],[-87.6576,41.8504],[-87.6574,41.8505],[-87.6552,41.851],[-87.6542,41.851],[-87.6528,41.8505],[-87.6525,41.8505],[-87.6525,41.8503],[-87.6521,41.849],[-87.6509,41.8485],[-87.6528,41.848],[-87.6534,41.848],[-87.6552,41.8479],[-87.6561,41.8478],[-87.6576,41.8474],[-87.6588,41.8467]]],[[[-87.596,41.8081],[-87.5948,41.8081],[-87.5938,41.8089],[-87.5938,41.8097],[-87.594,41.8107],[-87.5944,41.811],[-87.5948,41.8114],[-87.5949,41.8107],[-87.595,41.8106],[-87.5961,41.8089],[-87.596,41.8081]]],[[[-87.66,41.8292],[-87.6598,41.8305],[-87.6579,41.8321],[-87.66,41.8306],[-87.6602,41.8305],[-87.661,41.8297],[-87.66,41.8292]]],[[[-87.6319,41.7795],[-87.631,41.7787],[-87.6296,41.7801],[-87.6303,41.7807],[-87.631,41.7813],[-87.6326,41.7801],[-87.6319,41.7795]]],[[[-87.6278,41.7754],[-87.6262,41.7762],[-87.6257,41.7766],[-87.6259,41.7768],[-87.6262,41.7777],[-87.6286,41.7766],[-87.6278,41.7754]]]]},\"properties\":{\"time\":1800},\"id\":\"fid-120ec34a_16001703008_-7ffa\"}]}\n"
     ]
    }
   ],
   "source": [
    "# set start location\n",
    "start_point = [41.846698, -87.621385] # Mercy Hospital & Medical Center\n",
    "\n",
    "travel_time = 60 * 30 # time in seconds, so this is 30 minutes\n",
    "mode = \"WALK,TRANSIT\"\n",
    "\n",
    "url = (\"{}isochrone?fromPlace={},{}&mode={}&cutoffSec={}\").format(\n",
    "    base_url,start_point[0],start_point[1],mode,travel_time)\n",
    "print(url)\n",
    "\n",
    "iso_response = requests.get(url)\n",
    "print(iso_response.text)"
   ]
  },
  {
   "cell_type": "code",
   "execution_count": 35,
   "metadata": {
    "collapsed": false
   },
   "outputs": [
    {
     "data": {
      "text/html": [
       "<div>\n",
       "<table border=\"1\" class=\"dataframe\">\n",
       "  <thead>\n",
       "    <tr style=\"text-align: right;\">\n",
       "      <th></th>\n",
       "      <th>geometry</th>\n",
       "      <th>time</th>\n",
       "    </tr>\n",
       "  </thead>\n",
       "  <tbody>\n",
       "    <tr>\n",
       "      <th>0</th>\n",
       "      <td>(POLYGON ((-87.6588 41.8467, -87.66 41.846, -8...</td>\n",
       "      <td>1800</td>\n",
       "    </tr>\n",
       "  </tbody>\n",
       "</table>\n",
       "</div>"
      ],
      "text/plain": [
       "                                            geometry  time\n",
       "0  (POLYGON ((-87.6588 41.8467, -87.66 41.846, -8...  1800"
      ]
     },
     "execution_count": 35,
     "metadata": {},
     "output_type": "execute_result"
    }
   ],
   "source": [
    "iso_json = json.loads(iso_response.text)\n",
    "\n",
    "## load isochrone into a geopandas dataframe\n",
    "iso_gdf = gpd.GeoDataFrame.from_features(iso_json['features'])\n",
    "iso_gdf[:]"
   ]
  },
  {
   "cell_type": "code",
   "execution_count": 36,
   "metadata": {
    "collapsed": false
   },
   "outputs": [
    {
     "data": {
      "image/png": "[encoded data removed]",
      "text/plain": [
       "<matplotlib.figure.Figure at 0x123e8a1d0>"
      ]
     },
     "metadata": {},
     "output_type": "display_data"
    }
   ],
   "source": [
    "# view the resulting isochrone shape (can you guess why there are separated geographies?)\n",
    "iso_gdf.plot();"
   ]
  },
  {
   "cell_type": "markdown",
   "metadata": {},
   "source": [
    "One potential use case for this functionality: can people at two locations reach some common location within a specified travel time?"
   ]
  },
  {
   "cell_type": "code",
   "execution_count": 37,
   "metadata": {
    "collapsed": true
   },
   "outputs": [],
   "source": [
    "# 2nd location\n",
    "start_point_2 = [41.884260, -87.630344] # Traffic Court in Richard J. Daley center\n",
    "\n",
    "url_2 = (\"{}isochrone?fromPlace={},{}&mode={}&date=2016-06-01&cutoffSec={}\").format(\n",
    "    base_url,start_point_2[0],start_point[1],mode,travel_time)\n",
    "\n",
    "# get json request\n",
    "iso_json_2 = json.loads(requests.get(url_2).text)\n",
    "\n",
    "## load isochrone into a geopandas dataframe\n",
    "iso_gdf_2 = gpd.GeoDataFrame.from_features(iso_json_2['features'])"
   ]
  },
  {
   "cell_type": "code",
   "execution_count": 38,
   "metadata": {
    "collapsed": false
   },
   "outputs": [
    {
     "data": {
      "image/png": "[encoded data removed]",
      "text/plain": [
       "<matplotlib.figure.Figure at 0x125ef4278>"
      ]
     },
     "metadata": {},
     "output_type": "display_data"
    }
   ],
   "source": [
    "# view the second isochrone\n",
    "iso_gdf_2.plot();"
   ]
  },
  {
   "cell_type": "code",
   "execution_count": 39,
   "metadata": {
    "collapsed": false
   },
   "outputs": [
    {
     "data": {
      "text/plain": [
       "0    True\n",
       "dtype: bool"
      ]
     },
     "execution_count": 39,
     "metadata": {},
     "output_type": "execute_result"
    }
   ],
   "source": [
    "# do the two isochrones intersect?\n",
    "iso_gdf.intersects(iso_gdf_2)"
   ]
  },
  {
   "cell_type": "code",
   "execution_count": 40,
   "metadata": {
    "collapsed": false
   },
   "outputs": [
    {
     "name": "stderr",
     "output_type": "stream",
     "text": [
      "Self-intersection at or near point -87.647800000000004 41.819699999999997\n"
     ]
    }
   ],
   "source": [
    "# they do intersect, so create an overlay with a 'union'\n",
    "iso_join = gpd.overlay(iso_gdf, iso_gdf_2, how='union')"
   ]
  },
  {
   "cell_type": "code",
   "execution_count": 41,
   "metadata": {
    "collapsed": false
   },
   "outputs": [
    {
     "data": {
      "text/html": [
       "<div>\n",
       "<table border=\"1\" class=\"dataframe\">\n",
       "  <thead>\n",
       "    <tr style=\"text-align: right;\">\n",
       "      <th></th>\n",
       "      <th>time</th>\n",
       "      <th>time_2</th>\n",
       "      <th>geometry</th>\n",
       "    </tr>\n",
       "  </thead>\n",
       "  <tbody>\n",
       "    <tr>\n",
       "      <th>0</th>\n",
       "      <td>NaN</td>\n",
       "      <td>1800.0</td>\n",
       "      <td>POLYGON ((-87.60339999999999 41.7286, -87.604 ...</td>\n",
       "    </tr>\n",
       "    <tr>\n",
       "      <th>1</th>\n",
       "      <td>NaN</td>\n",
       "      <td>1800.0</td>\n",
       "      <td>POLYGON ((-87.6011 41.7428, -87.601 41.744, -8...</td>\n",
       "    </tr>\n",
       "    <tr>\n",
       "      <th>2</th>\n",
       "      <td>NaN</td>\n",
       "      <td>1800.0</td>\n",
       "      <td>POLYGON ((-87.6006 41.7486, -87.5998 41.7494, ...</td>\n",
       "    </tr>\n",
       "    <tr>\n",
       "      <th>3</th>\n",
       "      <td>NaN</td>\n",
       "      <td>1800.0</td>\n",
       "      <td>POLYGON ((-87.60120000000001 41.7572, -87.5999...</td>\n",
       "    </tr>\n",
       "    <tr>\n",
       "      <th>4</th>\n",
       "      <td>1800.0</td>\n",
       "      <td>1800.0</td>\n",
       "      <td>POLYGON ((-87.596 41.8081, -87.59610000000001 ...</td>\n",
       "    </tr>\n",
       "  </tbody>\n",
       "</table>\n",
       "</div>"
      ],
      "text/plain": [
       "     time  time_2                                           geometry\n",
       "0     NaN  1800.0  POLYGON ((-87.60339999999999 41.7286, -87.604 ...\n",
       "1     NaN  1800.0  POLYGON ((-87.6011 41.7428, -87.601 41.744, -8...\n",
       "2     NaN  1800.0  POLYGON ((-87.6006 41.7486, -87.5998 41.7494, ...\n",
       "3     NaN  1800.0  POLYGON ((-87.60120000000001 41.7572, -87.5999...\n",
       "4  1800.0  1800.0  POLYGON ((-87.596 41.8081, -87.59610000000001 ..."
      ]
     },
     "execution_count": 41,
     "metadata": {},
     "output_type": "execute_result"
    }
   ],
   "source": [
    "# what does the dataframe look like now?\n",
    "iso_join.head()"
   ]
  },
  {
   "cell_type": "code",
   "execution_count": 42,
   "metadata": {
    "collapsed": false
   },
   "outputs": [
    {
     "data": {
      "image/png": "[encoded data removed]",
      "text/plain": [
       "<matplotlib.figure.Figure at 0x125efeef0>"
      ]
     },
     "metadata": {},
     "output_type": "display_data"
    }
   ],
   "source": [
    "# and visually?\n",
    "iso_join.plot();"
   ]
  },
  {
   "cell_type": "markdown",
   "metadata": {},
   "source": [
    "- Back to the [Table of Contents](#Table-of-Contents)\n",
    "\n",
    "> A bit annoyingly this is difficult to tell where the two overlap. To fix this we can group based on the \"time\" and \"time_2\" columns to end with just 3 combinations: \n",
    "1. accessible from our first location only, \n",
    "2. accessible our second location only, and \n",
    "3. accessible from either location\n",
    "\n",
    "We'll do this by using the [\"dissolve\" function](http://geopandas.org/aggregation_with_dissolve.html) from geopandas. However first we need to replace the \"NaN\" so those rows are not ignored"
   ]
  },
  {
   "cell_type": "code",
   "execution_count": 43,
   "metadata": {
    "collapsed": true
   },
   "outputs": [],
   "source": [
    "# replace NaN with placeholder value, let's say 99999\n",
    "iso_join.fillna(99999, inplace=True)"
   ]
  },
  {
   "cell_type": "code",
   "execution_count": 44,
   "metadata": {
    "collapsed": true
   },
   "outputs": [],
   "source": [
    "iso_join = iso_join.dissolve(by=['time', 'time_2']).reset_index()\n",
    "\n",
    "# Note: used reset_index() here so it's easier to use the 'time' and 'time_2' columns if needed"
   ]
  },
  {
   "cell_type": "code",
   "execution_count": 45,
   "metadata": {
    "collapsed": false
   },
   "outputs": [
    {
     "data": {
      "text/html": [
       "<div>\n",
       "<table border=\"1\" class=\"dataframe\">\n",
       "  <thead>\n",
       "    <tr style=\"text-align: right;\">\n",
       "      <th></th>\n",
       "      <th>time</th>\n",
       "      <th>time_2</th>\n",
       "      <th>geometry</th>\n",
       "    </tr>\n",
       "  </thead>\n",
       "  <tbody>\n",
       "    <tr>\n",
       "      <th>0</th>\n",
       "      <td>1800.0</td>\n",
       "      <td>1800.0</td>\n",
       "      <td>(POLYGON ((-87.596 41.8081, -87.59610000000001...</td>\n",
       "    </tr>\n",
       "    <tr>\n",
       "      <th>1</th>\n",
       "      <td>1800.0</td>\n",
       "      <td>99999.0</td>\n",
       "      <td>(POLYGON ((-87.62779999999999 41.7754, -87.628...</td>\n",
       "    </tr>\n",
       "    <tr>\n",
       "      <th>2</th>\n",
       "      <td>99999.0</td>\n",
       "      <td>1800.0</td>\n",
       "      <td>(POLYGON ((-87.60339999999999 41.7286, -87.604...</td>\n",
       "    </tr>\n",
       "  </tbody>\n",
       "</table>\n",
       "</div>"
      ],
      "text/plain": [
       "      time   time_2                                           geometry\n",
       "0   1800.0   1800.0  (POLYGON ((-87.596 41.8081, -87.59610000000001...\n",
       "1   1800.0  99999.0  (POLYGON ((-87.62779999999999 41.7754, -87.628...\n",
       "2  99999.0   1800.0  (POLYGON ((-87.60339999999999 41.7286, -87.604..."
      ]
     },
     "execution_count": 45,
     "metadata": {},
     "output_type": "execute_result"
    }
   ],
   "source": [
    "# now what does it look like?\n",
    "iso_join"
   ]
  },
  {
   "cell_type": "code",
   "execution_count": 46,
   "metadata": {
    "collapsed": false
   },
   "outputs": [
    {
     "data": {
      "image/png": "[encoded data removed]",
      "text/plain": [
       "<matplotlib.figure.Figure at 0x125f2cef0>"
      ]
     },
     "metadata": {},
     "output_type": "display_data"
    }
   ],
   "source": [
    "# and visually?\n",
    "iso_join.plot();"
   ]
  },
  {
   "cell_type": "code",
   "execution_count": 47,
   "metadata": {
    "collapsed": true
   },
   "outputs": [],
   "source": [
    "# add a label column to use so we can include a legend\n",
    "iso_join['label'] = ''\n",
    "\n",
    "# use index slicing function '.loc' of dataframes to update each value of label appropriately\n",
    "iso_join.loc[0,'label'] = 'Both'\n",
    "iso_join.loc[1,'label'] = 'point 1 only'\n",
    "iso_join.loc[2,'label'] = 'point 2 only'"
   ]
  },
  {
   "cell_type": "code",
   "execution_count": 48,
   "metadata": {
    "collapsed": false,
    "scrolled": false
   },
   "outputs": [
    {
     "data": {
      "image/png": "[encoded data removed]",
      "text/plain": [
       "<matplotlib.figure.Figure at 0x1261075c0>"
      ]
     },
     "metadata": {},
     "output_type": "display_data"
    }
   ],
   "source": [
    "# set up a nicer visualization with labels\n",
    "f,ax = plt.subplots(figsize=(8,8))\n",
    "\n",
    "# use geopandas to specify label column and adding a legend to the matplotlib object 'ax'\n",
    "iso_join.plot(column='label', ax=ax, legend=True, cmap='viridis');\n",
    "\n",
    "# also plot start and stop points on the same map, note matplotlib takes [x,y] coordinates\n",
    "ax.plot(start_point[1], start_point[0], 's', color='orange', markersize=10, label='point 1')\n",
    "ax.plot(start_point_2[1], start_point_2[0], 's', color='grey', markersize=10, label='point 2')\n",
    "\n",
    "# add some other labels\n",
    "ax.set_xlabel('Longitude')\n",
    "ax.set_ylabel('Latitude')\n",
    "\n",
    "# title\n",
    "ax.set_title('Area accessible within {} minutes travel using public transit'.format(travel_time/60));"
   ]
  }
 ],
 "metadata": {
  "anaconda-cloud": {},
  "kernelspec": {
   "display_name": "geo_py36",
   "language": "python",
   "name": "geo_py36"
  },
  "language_info": {
   "codemirror_mode": {
    "name": "ipython",
    "version": 3
   },
   "file_extension": ".py",
   "mimetype": "text/x-python",
   "name": "python",
   "nbconvert_exporter": "python",
   "pygments_lexer": "ipython3",
   "version": "3.6.1"
  }
 },
 "nbformat": 4,
 "nbformat_minor": 1
}
